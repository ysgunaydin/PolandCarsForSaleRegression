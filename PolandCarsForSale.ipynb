{
 "cells": [
  {
   "cell_type": "code",
   "execution_count": 1,
   "metadata": {},
   "outputs": [],
   "source": [
    "import numpy as np\n",
    "import pandas as pd\n",
    "import matplotlib.pyplot as plt\n",
    "import sklearn"
   ]
  },
  {
   "cell_type": "markdown",
   "metadata": {},
   "source": [
    "### Verisetini dosyadan okuma"
   ]
  },
  {
   "cell_type": "code",
   "execution_count": 4,
   "metadata": {},
   "outputs": [],
   "source": [
    "df = pd.read_csv(\"data/polandCars/Car_sale_ads.csv\", low_memory = False)"
   ]
  },
  {
   "cell_type": "markdown",
   "metadata": {},
   "source": [
    "### 1. Verisetinin İncelenmesi\n",
    "\n",
    "* Bu aşama iyi bir model oluşturabilmek açısından oldukça önemlidir.\n",
    "* Veriyi doğru okumadan iyi bir model elde etmek mümkün değildir."
   ]
  },
  {
   "cell_type": "markdown",
   "metadata": {},
   "source": [
    "#### 1.1. Veri Hakkında Genel Bilgi"
   ]
  },
  {
   "cell_type": "code",
   "execution_count": 5,
   "metadata": {},
   "outputs": [
    {
     "name": "stdout",
     "output_type": "stream",
     "text": [
      "<class 'pandas.core.frame.DataFrame'>\n",
      "RangeIndex: 208304 entries, 0 to 208303\n",
      "Data columns (total 25 columns):\n",
      " #   Column                   Non-Null Count   Dtype  \n",
      "---  ------                   --------------   -----  \n",
      " 0   Index                    208304 non-null  int64  \n",
      " 1   Price                    208304 non-null  int64  \n",
      " 2   Currency                 208304 non-null  object \n",
      " 3   Condition                208304 non-null  object \n",
      " 4   Vehicle_brand            208304 non-null  object \n",
      " 5   Vehicle_model            208304 non-null  object \n",
      " 6   Vehicle_version          138082 non-null  object \n",
      " 7   Vehicle_generation       147860 non-null  object \n",
      " 8   Production_year          208304 non-null  int64  \n",
      " 9   Mileage_km               207321 non-null  float64\n",
      " 10  Power_HP                 207661 non-null  float64\n",
      " 11  Displacement_cm3         206338 non-null  float64\n",
      " 12  Fuel_type                208304 non-null  object \n",
      " 13  CO2_emissions            94047 non-null   float64\n",
      " 14  Drive                    193228 non-null  object \n",
      " 15  Transmission             207825 non-null  object \n",
      " 16  Type                     208304 non-null  object \n",
      " 17  Doors_number             206817 non-null  float64\n",
      " 18  Colour                   208304 non-null  object \n",
      " 19  Origin_country           118312 non-null  object \n",
      " 20  First_owner              65094 non-null   object \n",
      " 21  First_registration_date  86445 non-null   object \n",
      " 22  Offer_publication_date   208304 non-null  object \n",
      " 23  Offer_location           208304 non-null  object \n",
      " 24  Features                 208304 non-null  object \n",
      "dtypes: float64(5), int64(3), object(17)\n",
      "memory usage: 39.7+ MB\n"
     ]
    }
   ],
   "source": [
    "df.info()"
   ]
  },
  {
   "cell_type": "markdown",
   "metadata": {},
   "source": [
    "#### 1.2. Boş Elemana Sahip Sütunlar"
   ]
  },
  {
   "cell_type": "code",
   "execution_count": 6,
   "metadata": {},
   "outputs": [
    {
     "data": {
      "text/plain": [
       "Index                           0\n",
       "Price                           0\n",
       "Currency                        0\n",
       "Condition                       0\n",
       "Vehicle_brand                   0\n",
       "Vehicle_model                   0\n",
       "Vehicle_version             70222\n",
       "Vehicle_generation          60444\n",
       "Production_year                 0\n",
       "Mileage_km                    983\n",
       "Power_HP                      643\n",
       "Displacement_cm3             1966\n",
       "Fuel_type                       0\n",
       "CO2_emissions              114257\n",
       "Drive                       15076\n",
       "Transmission                  479\n",
       "Type                            0\n",
       "Doors_number                 1487\n",
       "Colour                          0\n",
       "Origin_country              89992\n",
       "First_owner                143210\n",
       "First_registration_date    121859\n",
       "Offer_publication_date          0\n",
       "Offer_location                  0\n",
       "Features                        0\n",
       "dtype: int64"
      ]
     },
     "execution_count": 6,
     "metadata": {},
     "output_type": "execute_result"
    }
   ],
   "source": [
    "df.isna().sum()"
   ]
  },
  {
   "cell_type": "markdown",
   "metadata": {},
   "source": [
    "#### 1.3. Örnek Veriler"
   ]
  },
  {
   "cell_type": "code",
   "execution_count": 7,
   "metadata": {},
   "outputs": [
    {
     "data": {
      "text/html": [
       "<div>\n",
       "<style scoped>\n",
       "    .dataframe tbody tr th:only-of-type {\n",
       "        vertical-align: middle;\n",
       "    }\n",
       "\n",
       "    .dataframe tbody tr th {\n",
       "        vertical-align: top;\n",
       "    }\n",
       "\n",
       "    .dataframe thead th {\n",
       "        text-align: right;\n",
       "    }\n",
       "</style>\n",
       "<table border=\"1\" class=\"dataframe\">\n",
       "  <thead>\n",
       "    <tr style=\"text-align: right;\">\n",
       "      <th></th>\n",
       "      <th>Index</th>\n",
       "      <th>Price</th>\n",
       "      <th>Currency</th>\n",
       "      <th>Condition</th>\n",
       "      <th>Vehicle_brand</th>\n",
       "      <th>Vehicle_model</th>\n",
       "      <th>Vehicle_version</th>\n",
       "      <th>Vehicle_generation</th>\n",
       "      <th>Production_year</th>\n",
       "      <th>Mileage_km</th>\n",
       "      <th>...</th>\n",
       "      <th>Transmission</th>\n",
       "      <th>Type</th>\n",
       "      <th>Doors_number</th>\n",
       "      <th>Colour</th>\n",
       "      <th>Origin_country</th>\n",
       "      <th>First_owner</th>\n",
       "      <th>First_registration_date</th>\n",
       "      <th>Offer_publication_date</th>\n",
       "      <th>Offer_location</th>\n",
       "      <th>Features</th>\n",
       "    </tr>\n",
       "  </thead>\n",
       "  <tbody>\n",
       "    <tr>\n",
       "      <th>0</th>\n",
       "      <td>0</td>\n",
       "      <td>86200</td>\n",
       "      <td>PLN</td>\n",
       "      <td>New</td>\n",
       "      <td>Abarth</td>\n",
       "      <td>595</td>\n",
       "      <td>NaN</td>\n",
       "      <td>NaN</td>\n",
       "      <td>2021</td>\n",
       "      <td>1.0</td>\n",
       "      <td>...</td>\n",
       "      <td>Manual</td>\n",
       "      <td>small_cars</td>\n",
       "      <td>3.0</td>\n",
       "      <td>gray</td>\n",
       "      <td>NaN</td>\n",
       "      <td>NaN</td>\n",
       "      <td>NaN</td>\n",
       "      <td>04/05/2021</td>\n",
       "      <td>ul. Jubilerska 6 - 04-190 Warszawa, Mazowiecki...</td>\n",
       "      <td>[]</td>\n",
       "    </tr>\n",
       "    <tr>\n",
       "      <th>1</th>\n",
       "      <td>1</td>\n",
       "      <td>43500</td>\n",
       "      <td>PLN</td>\n",
       "      <td>Used</td>\n",
       "      <td>Abarth</td>\n",
       "      <td>Other</td>\n",
       "      <td>NaN</td>\n",
       "      <td>NaN</td>\n",
       "      <td>1974</td>\n",
       "      <td>59000.0</td>\n",
       "      <td>...</td>\n",
       "      <td>Manual</td>\n",
       "      <td>coupe</td>\n",
       "      <td>2.0</td>\n",
       "      <td>silver</td>\n",
       "      <td>NaN</td>\n",
       "      <td>NaN</td>\n",
       "      <td>NaN</td>\n",
       "      <td>03/05/2021</td>\n",
       "      <td>kanonierska12 - 04-425 Warszawa, Rembertów (Po...</td>\n",
       "      <td>[]</td>\n",
       "    </tr>\n",
       "    <tr>\n",
       "      <th>2</th>\n",
       "      <td>2</td>\n",
       "      <td>44900</td>\n",
       "      <td>PLN</td>\n",
       "      <td>Used</td>\n",
       "      <td>Abarth</td>\n",
       "      <td>500</td>\n",
       "      <td>NaN</td>\n",
       "      <td>NaN</td>\n",
       "      <td>2018</td>\n",
       "      <td>52000.0</td>\n",
       "      <td>...</td>\n",
       "      <td>Automatic</td>\n",
       "      <td>small_cars</td>\n",
       "      <td>3.0</td>\n",
       "      <td>silver</td>\n",
       "      <td>NaN</td>\n",
       "      <td>NaN</td>\n",
       "      <td>NaN</td>\n",
       "      <td>03/05/2021</td>\n",
       "      <td>Warszawa, Mazowieckie, Białołęka</td>\n",
       "      <td>['ABS', 'Electric front windows', 'Drivers air...</td>\n",
       "    </tr>\n",
       "    <tr>\n",
       "      <th>3</th>\n",
       "      <td>3</td>\n",
       "      <td>39900</td>\n",
       "      <td>PLN</td>\n",
       "      <td>Used</td>\n",
       "      <td>Abarth</td>\n",
       "      <td>500</td>\n",
       "      <td>NaN</td>\n",
       "      <td>NaN</td>\n",
       "      <td>2012</td>\n",
       "      <td>29000.0</td>\n",
       "      <td>...</td>\n",
       "      <td>Manual</td>\n",
       "      <td>small_cars</td>\n",
       "      <td>3.0</td>\n",
       "      <td>gray</td>\n",
       "      <td>NaN</td>\n",
       "      <td>NaN</td>\n",
       "      <td>NaN</td>\n",
       "      <td>30/04/2021</td>\n",
       "      <td>Jaworzno, Śląskie</td>\n",
       "      <td>['ABS', 'Electric front windows', 'Drivers air...</td>\n",
       "    </tr>\n",
       "    <tr>\n",
       "      <th>4</th>\n",
       "      <td>4</td>\n",
       "      <td>97900</td>\n",
       "      <td>PLN</td>\n",
       "      <td>New</td>\n",
       "      <td>Abarth</td>\n",
       "      <td>595</td>\n",
       "      <td>NaN</td>\n",
       "      <td>NaN</td>\n",
       "      <td>2021</td>\n",
       "      <td>600.0</td>\n",
       "      <td>...</td>\n",
       "      <td>Manual</td>\n",
       "      <td>small_cars</td>\n",
       "      <td>3.0</td>\n",
       "      <td>blue</td>\n",
       "      <td>NaN</td>\n",
       "      <td>NaN</td>\n",
       "      <td>NaN</td>\n",
       "      <td>30/04/2021</td>\n",
       "      <td>ul. Gorzysława 9 - 61-057 Poznań, Nowe Miasto ...</td>\n",
       "      <td>['ABS', 'Electrically adjustable mirrors', 'Pa...</td>\n",
       "    </tr>\n",
       "  </tbody>\n",
       "</table>\n",
       "<p>5 rows × 25 columns</p>\n",
       "</div>"
      ],
      "text/plain": [
       "   Index  Price Currency Condition Vehicle_brand Vehicle_model  \\\n",
       "0      0  86200      PLN       New        Abarth           595   \n",
       "1      1  43500      PLN      Used        Abarth         Other   \n",
       "2      2  44900      PLN      Used        Abarth           500   \n",
       "3      3  39900      PLN      Used        Abarth           500   \n",
       "4      4  97900      PLN       New        Abarth           595   \n",
       "\n",
       "  Vehicle_version Vehicle_generation  Production_year  Mileage_km  ...  \\\n",
       "0             NaN                NaN             2021         1.0  ...   \n",
       "1             NaN                NaN             1974     59000.0  ...   \n",
       "2             NaN                NaN             2018     52000.0  ...   \n",
       "3             NaN                NaN             2012     29000.0  ...   \n",
       "4             NaN                NaN             2021       600.0  ...   \n",
       "\n",
       "   Transmission        Type Doors_number  Colour Origin_country First_owner  \\\n",
       "0        Manual  small_cars          3.0    gray            NaN         NaN   \n",
       "1        Manual       coupe          2.0  silver            NaN         NaN   \n",
       "2     Automatic  small_cars          3.0  silver            NaN         NaN   \n",
       "3        Manual  small_cars          3.0    gray            NaN         NaN   \n",
       "4        Manual  small_cars          3.0    blue            NaN         NaN   \n",
       "\n",
       "  First_registration_date  Offer_publication_date  \\\n",
       "0                     NaN              04/05/2021   \n",
       "1                     NaN              03/05/2021   \n",
       "2                     NaN              03/05/2021   \n",
       "3                     NaN              30/04/2021   \n",
       "4                     NaN              30/04/2021   \n",
       "\n",
       "                                      Offer_location  \\\n",
       "0  ul. Jubilerska 6 - 04-190 Warszawa, Mazowiecki...   \n",
       "1  kanonierska12 - 04-425 Warszawa, Rembertów (Po...   \n",
       "2                   Warszawa, Mazowieckie, Białołęka   \n",
       "3                                  Jaworzno, Śląskie   \n",
       "4  ul. Gorzysława 9 - 61-057 Poznań, Nowe Miasto ...   \n",
       "\n",
       "                                            Features  \n",
       "0                                                 []  \n",
       "1                                                 []  \n",
       "2  ['ABS', 'Electric front windows', 'Drivers air...  \n",
       "3  ['ABS', 'Electric front windows', 'Drivers air...  \n",
       "4  ['ABS', 'Electrically adjustable mirrors', 'Pa...  \n",
       "\n",
       "[5 rows x 25 columns]"
      ]
     },
     "execution_count": 7,
     "metadata": {},
     "output_type": "execute_result"
    }
   ],
   "source": [
    "df.head()"
   ]
  },
  {
   "cell_type": "code",
   "execution_count": 8,
   "metadata": {},
   "outputs": [
    {
     "data": {
      "text/html": [
       "<div>\n",
       "<style scoped>\n",
       "    .dataframe tbody tr th:only-of-type {\n",
       "        vertical-align: middle;\n",
       "    }\n",
       "\n",
       "    .dataframe tbody tr th {\n",
       "        vertical-align: top;\n",
       "    }\n",
       "\n",
       "    .dataframe thead th {\n",
       "        text-align: right;\n",
       "    }\n",
       "</style>\n",
       "<table border=\"1\" class=\"dataframe\">\n",
       "  <thead>\n",
       "    <tr style=\"text-align: right;\">\n",
       "      <th></th>\n",
       "      <th>0</th>\n",
       "      <th>1</th>\n",
       "      <th>2</th>\n",
       "      <th>3</th>\n",
       "      <th>4</th>\n",
       "    </tr>\n",
       "  </thead>\n",
       "  <tbody>\n",
       "    <tr>\n",
       "      <th>Index</th>\n",
       "      <td>0</td>\n",
       "      <td>1</td>\n",
       "      <td>2</td>\n",
       "      <td>3</td>\n",
       "      <td>4</td>\n",
       "    </tr>\n",
       "    <tr>\n",
       "      <th>Price</th>\n",
       "      <td>86200</td>\n",
       "      <td>43500</td>\n",
       "      <td>44900</td>\n",
       "      <td>39900</td>\n",
       "      <td>97900</td>\n",
       "    </tr>\n",
       "    <tr>\n",
       "      <th>Currency</th>\n",
       "      <td>PLN</td>\n",
       "      <td>PLN</td>\n",
       "      <td>PLN</td>\n",
       "      <td>PLN</td>\n",
       "      <td>PLN</td>\n",
       "    </tr>\n",
       "    <tr>\n",
       "      <th>Condition</th>\n",
       "      <td>New</td>\n",
       "      <td>Used</td>\n",
       "      <td>Used</td>\n",
       "      <td>Used</td>\n",
       "      <td>New</td>\n",
       "    </tr>\n",
       "    <tr>\n",
       "      <th>Vehicle_brand</th>\n",
       "      <td>Abarth</td>\n",
       "      <td>Abarth</td>\n",
       "      <td>Abarth</td>\n",
       "      <td>Abarth</td>\n",
       "      <td>Abarth</td>\n",
       "    </tr>\n",
       "    <tr>\n",
       "      <th>Vehicle_model</th>\n",
       "      <td>595</td>\n",
       "      <td>Other</td>\n",
       "      <td>500</td>\n",
       "      <td>500</td>\n",
       "      <td>595</td>\n",
       "    </tr>\n",
       "    <tr>\n",
       "      <th>Vehicle_version</th>\n",
       "      <td>NaN</td>\n",
       "      <td>NaN</td>\n",
       "      <td>NaN</td>\n",
       "      <td>NaN</td>\n",
       "      <td>NaN</td>\n",
       "    </tr>\n",
       "    <tr>\n",
       "      <th>Vehicle_generation</th>\n",
       "      <td>NaN</td>\n",
       "      <td>NaN</td>\n",
       "      <td>NaN</td>\n",
       "      <td>NaN</td>\n",
       "      <td>NaN</td>\n",
       "    </tr>\n",
       "    <tr>\n",
       "      <th>Production_year</th>\n",
       "      <td>2021</td>\n",
       "      <td>1974</td>\n",
       "      <td>2018</td>\n",
       "      <td>2012</td>\n",
       "      <td>2021</td>\n",
       "    </tr>\n",
       "    <tr>\n",
       "      <th>Mileage_km</th>\n",
       "      <td>1.0</td>\n",
       "      <td>59000.0</td>\n",
       "      <td>52000.0</td>\n",
       "      <td>29000.0</td>\n",
       "      <td>600.0</td>\n",
       "    </tr>\n",
       "    <tr>\n",
       "      <th>Power_HP</th>\n",
       "      <td>145.0</td>\n",
       "      <td>75.0</td>\n",
       "      <td>180.0</td>\n",
       "      <td>160.0</td>\n",
       "      <td>165.0</td>\n",
       "    </tr>\n",
       "    <tr>\n",
       "      <th>Displacement_cm3</th>\n",
       "      <td>1400.0</td>\n",
       "      <td>1100.0</td>\n",
       "      <td>1368.0</td>\n",
       "      <td>1368.0</td>\n",
       "      <td>1368.0</td>\n",
       "    </tr>\n",
       "    <tr>\n",
       "      <th>Fuel_type</th>\n",
       "      <td>Gasoline</td>\n",
       "      <td>Gasoline</td>\n",
       "      <td>Gasoline</td>\n",
       "      <td>Gasoline</td>\n",
       "      <td>Gasoline</td>\n",
       "    </tr>\n",
       "    <tr>\n",
       "      <th>CO2_emissions</th>\n",
       "      <td>NaN</td>\n",
       "      <td>NaN</td>\n",
       "      <td>NaN</td>\n",
       "      <td>139.0</td>\n",
       "      <td>NaN</td>\n",
       "    </tr>\n",
       "    <tr>\n",
       "      <th>Drive</th>\n",
       "      <td>Front wheels</td>\n",
       "      <td>Front wheels</td>\n",
       "      <td>NaN</td>\n",
       "      <td>Front wheels</td>\n",
       "      <td>NaN</td>\n",
       "    </tr>\n",
       "    <tr>\n",
       "      <th>Transmission</th>\n",
       "      <td>Manual</td>\n",
       "      <td>Manual</td>\n",
       "      <td>Automatic</td>\n",
       "      <td>Manual</td>\n",
       "      <td>Manual</td>\n",
       "    </tr>\n",
       "    <tr>\n",
       "      <th>Type</th>\n",
       "      <td>small_cars</td>\n",
       "      <td>coupe</td>\n",
       "      <td>small_cars</td>\n",
       "      <td>small_cars</td>\n",
       "      <td>small_cars</td>\n",
       "    </tr>\n",
       "    <tr>\n",
       "      <th>Doors_number</th>\n",
       "      <td>3.0</td>\n",
       "      <td>2.0</td>\n",
       "      <td>3.0</td>\n",
       "      <td>3.0</td>\n",
       "      <td>3.0</td>\n",
       "    </tr>\n",
       "    <tr>\n",
       "      <th>Colour</th>\n",
       "      <td>gray</td>\n",
       "      <td>silver</td>\n",
       "      <td>silver</td>\n",
       "      <td>gray</td>\n",
       "      <td>blue</td>\n",
       "    </tr>\n",
       "    <tr>\n",
       "      <th>Origin_country</th>\n",
       "      <td>NaN</td>\n",
       "      <td>NaN</td>\n",
       "      <td>NaN</td>\n",
       "      <td>NaN</td>\n",
       "      <td>NaN</td>\n",
       "    </tr>\n",
       "    <tr>\n",
       "      <th>First_owner</th>\n",
       "      <td>NaN</td>\n",
       "      <td>NaN</td>\n",
       "      <td>NaN</td>\n",
       "      <td>NaN</td>\n",
       "      <td>NaN</td>\n",
       "    </tr>\n",
       "    <tr>\n",
       "      <th>First_registration_date</th>\n",
       "      <td>NaN</td>\n",
       "      <td>NaN</td>\n",
       "      <td>NaN</td>\n",
       "      <td>NaN</td>\n",
       "      <td>NaN</td>\n",
       "    </tr>\n",
       "    <tr>\n",
       "      <th>Offer_publication_date</th>\n",
       "      <td>04/05/2021</td>\n",
       "      <td>03/05/2021</td>\n",
       "      <td>03/05/2021</td>\n",
       "      <td>30/04/2021</td>\n",
       "      <td>30/04/2021</td>\n",
       "    </tr>\n",
       "    <tr>\n",
       "      <th>Offer_location</th>\n",
       "      <td>ul. Jubilerska 6 - 04-190 Warszawa, Mazowiecki...</td>\n",
       "      <td>kanonierska12 - 04-425 Warszawa, Rembertów (Po...</td>\n",
       "      <td>Warszawa, Mazowieckie, Białołęka</td>\n",
       "      <td>Jaworzno, Śląskie</td>\n",
       "      <td>ul. Gorzysława 9 - 61-057 Poznań, Nowe Miasto ...</td>\n",
       "    </tr>\n",
       "    <tr>\n",
       "      <th>Features</th>\n",
       "      <td>[]</td>\n",
       "      <td>[]</td>\n",
       "      <td>['ABS', 'Electric front windows', 'Drivers air...</td>\n",
       "      <td>['ABS', 'Electric front windows', 'Drivers air...</td>\n",
       "      <td>['ABS', 'Electrically adjustable mirrors', 'Pa...</td>\n",
       "    </tr>\n",
       "  </tbody>\n",
       "</table>\n",
       "</div>"
      ],
      "text/plain": [
       "                                                                         0  \\\n",
       "Index                                                                    0   \n",
       "Price                                                                86200   \n",
       "Currency                                                               PLN   \n",
       "Condition                                                              New   \n",
       "Vehicle_brand                                                       Abarth   \n",
       "Vehicle_model                                                          595   \n",
       "Vehicle_version                                                        NaN   \n",
       "Vehicle_generation                                                     NaN   \n",
       "Production_year                                                       2021   \n",
       "Mileage_km                                                             1.0   \n",
       "Power_HP                                                             145.0   \n",
       "Displacement_cm3                                                    1400.0   \n",
       "Fuel_type                                                         Gasoline   \n",
       "CO2_emissions                                                          NaN   \n",
       "Drive                                                         Front wheels   \n",
       "Transmission                                                        Manual   \n",
       "Type                                                            small_cars   \n",
       "Doors_number                                                           3.0   \n",
       "Colour                                                                gray   \n",
       "Origin_country                                                         NaN   \n",
       "First_owner                                                            NaN   \n",
       "First_registration_date                                                NaN   \n",
       "Offer_publication_date                                          04/05/2021   \n",
       "Offer_location           ul. Jubilerska 6 - 04-190 Warszawa, Mazowiecki...   \n",
       "Features                                                                []   \n",
       "\n",
       "                                                                         1  \\\n",
       "Index                                                                    1   \n",
       "Price                                                                43500   \n",
       "Currency                                                               PLN   \n",
       "Condition                                                             Used   \n",
       "Vehicle_brand                                                       Abarth   \n",
       "Vehicle_model                                                        Other   \n",
       "Vehicle_version                                                        NaN   \n",
       "Vehicle_generation                                                     NaN   \n",
       "Production_year                                                       1974   \n",
       "Mileage_km                                                         59000.0   \n",
       "Power_HP                                                              75.0   \n",
       "Displacement_cm3                                                    1100.0   \n",
       "Fuel_type                                                         Gasoline   \n",
       "CO2_emissions                                                          NaN   \n",
       "Drive                                                         Front wheels   \n",
       "Transmission                                                        Manual   \n",
       "Type                                                                 coupe   \n",
       "Doors_number                                                           2.0   \n",
       "Colour                                                              silver   \n",
       "Origin_country                                                         NaN   \n",
       "First_owner                                                            NaN   \n",
       "First_registration_date                                                NaN   \n",
       "Offer_publication_date                                          03/05/2021   \n",
       "Offer_location           kanonierska12 - 04-425 Warszawa, Rembertów (Po...   \n",
       "Features                                                                []   \n",
       "\n",
       "                                                                         2  \\\n",
       "Index                                                                    2   \n",
       "Price                                                                44900   \n",
       "Currency                                                               PLN   \n",
       "Condition                                                             Used   \n",
       "Vehicle_brand                                                       Abarth   \n",
       "Vehicle_model                                                          500   \n",
       "Vehicle_version                                                        NaN   \n",
       "Vehicle_generation                                                     NaN   \n",
       "Production_year                                                       2018   \n",
       "Mileage_km                                                         52000.0   \n",
       "Power_HP                                                             180.0   \n",
       "Displacement_cm3                                                    1368.0   \n",
       "Fuel_type                                                         Gasoline   \n",
       "CO2_emissions                                                          NaN   \n",
       "Drive                                                                  NaN   \n",
       "Transmission                                                     Automatic   \n",
       "Type                                                            small_cars   \n",
       "Doors_number                                                           3.0   \n",
       "Colour                                                              silver   \n",
       "Origin_country                                                         NaN   \n",
       "First_owner                                                            NaN   \n",
       "First_registration_date                                                NaN   \n",
       "Offer_publication_date                                          03/05/2021   \n",
       "Offer_location                            Warszawa, Mazowieckie, Białołęka   \n",
       "Features                 ['ABS', 'Electric front windows', 'Drivers air...   \n",
       "\n",
       "                                                                         3  \\\n",
       "Index                                                                    3   \n",
       "Price                                                                39900   \n",
       "Currency                                                               PLN   \n",
       "Condition                                                             Used   \n",
       "Vehicle_brand                                                       Abarth   \n",
       "Vehicle_model                                                          500   \n",
       "Vehicle_version                                                        NaN   \n",
       "Vehicle_generation                                                     NaN   \n",
       "Production_year                                                       2012   \n",
       "Mileage_km                                                         29000.0   \n",
       "Power_HP                                                             160.0   \n",
       "Displacement_cm3                                                    1368.0   \n",
       "Fuel_type                                                         Gasoline   \n",
       "CO2_emissions                                                        139.0   \n",
       "Drive                                                         Front wheels   \n",
       "Transmission                                                        Manual   \n",
       "Type                                                            small_cars   \n",
       "Doors_number                                                           3.0   \n",
       "Colour                                                                gray   \n",
       "Origin_country                                                         NaN   \n",
       "First_owner                                                            NaN   \n",
       "First_registration_date                                                NaN   \n",
       "Offer_publication_date                                          30/04/2021   \n",
       "Offer_location                                           Jaworzno, Śląskie   \n",
       "Features                 ['ABS', 'Electric front windows', 'Drivers air...   \n",
       "\n",
       "                                                                         4  \n",
       "Index                                                                    4  \n",
       "Price                                                                97900  \n",
       "Currency                                                               PLN  \n",
       "Condition                                                              New  \n",
       "Vehicle_brand                                                       Abarth  \n",
       "Vehicle_model                                                          595  \n",
       "Vehicle_version                                                        NaN  \n",
       "Vehicle_generation                                                     NaN  \n",
       "Production_year                                                       2021  \n",
       "Mileage_km                                                           600.0  \n",
       "Power_HP                                                             165.0  \n",
       "Displacement_cm3                                                    1368.0  \n",
       "Fuel_type                                                         Gasoline  \n",
       "CO2_emissions                                                          NaN  \n",
       "Drive                                                                  NaN  \n",
       "Transmission                                                        Manual  \n",
       "Type                                                            small_cars  \n",
       "Doors_number                                                           3.0  \n",
       "Colour                                                                blue  \n",
       "Origin_country                                                         NaN  \n",
       "First_owner                                                            NaN  \n",
       "First_registration_date                                                NaN  \n",
       "Offer_publication_date                                          30/04/2021  \n",
       "Offer_location           ul. Gorzysława 9 - 61-057 Poznań, Nowe Miasto ...  \n",
       "Features                 ['ABS', 'Electrically adjustable mirrors', 'Pa...  "
      ]
     },
     "execution_count": 8,
     "metadata": {},
     "output_type": "execute_result"
    }
   ],
   "source": [
    "df.head().T"
   ]
  },
  {
   "cell_type": "code",
   "execution_count": 13,
   "metadata": {},
   "outputs": [
    {
     "data": {
      "text/plain": [
       "208304"
      ]
     },
     "execution_count": 13,
     "metadata": {},
     "output_type": "execute_result"
    }
   ],
   "source": [
    "# Toplam Eleman sayısı\n",
    "len(df)"
   ]
  },
  {
   "cell_type": "markdown",
   "metadata": {},
   "source": [
    "#### 1.4 İlişkili Olduğunu Düşündüğünüz Sütunlar Arası Bağlantıya Bakma"
   ]
  },
  {
   "cell_type": "code",
   "execution_count": 15,
   "metadata": {},
   "outputs": [
    {
     "data": {
      "text/plain": [
       "<matplotlib.collections.PathCollection at 0x1aeb5af8e08>"
      ]
     },
     "execution_count": 15,
     "metadata": {},
     "output_type": "execute_result"
    },
    {
     "data": {
      "image/png": "[encoded data removed]",
      "text/plain": [
       "<Figure size 432x288 with 1 Axes>"
      ]
     },
     "metadata": {
      "needs_background": "light"
     },
     "output_type": "display_data"
    }
   ],
   "source": [
    "# Teklif tarihi ve fiyatın ikili ilişkisini gösteren grafik\n",
    "fig, ax = plt.subplots()\n",
    "ax.scatter(df[\"Offer_publication_date\"][:5000], df[\"Price\"][:5000])"
   ]
  },
  {
   "cell_type": "code",
   "execution_count": 27,
   "metadata": {},
   "outputs": [
    {
     "data": {
      "text/plain": [
       "<matplotlib.axes._subplots.AxesSubplot at 0x1aea5606f88>"
      ]
     },
     "execution_count": 27,
     "metadata": {},
     "output_type": "execute_result"
    },
    {
     "data": {
      "image/png": "[encoded data removed]",
      "text/plain": [
       "<Figure size 432x288 with 1 Axes>"
      ]
     },
     "metadata": {
      "needs_background": "light"
     },
     "output_type": "display_data"
    }
   ],
   "source": [
    "# Fiyatlara ait dağılımı gösteren histogram\n",
    "df.Price.plot.hist(range=[0, 250000], bins=50)"
   ]
  },
  {
   "cell_type": "markdown",
   "metadata": {},
   "source": [
    "#### 1.5 Veri Ön İşleme"
   ]
  },
  {
   "cell_type": "code",
   "execution_count": 28,
   "metadata": {},
   "outputs": [
    {
     "data": {
      "text/plain": [
       "dtype('O')"
      ]
     },
     "execution_count": 28,
     "metadata": {},
     "output_type": "execute_result"
    }
   ],
   "source": [
    "df.Offer_publication_date.dtype"
   ]
  },
  {
   "cell_type": "code",
   "execution_count": 33,
   "metadata": {},
   "outputs": [
    {
     "data": {
      "text/plain": [
       "0   2021-04-05\n",
       "1   2021-03-05\n",
       "2   2021-03-05\n",
       "3   2021-04-30\n",
       "4   2021-04-30\n",
       "Name: Offer_publication_date, dtype: datetime64[ns]"
      ]
     },
     "execution_count": 33,
     "metadata": {},
     "output_type": "execute_result"
    }
   ],
   "source": [
    "df.Offer_publication_date[:5]"
   ]
  },
  {
   "cell_type": "code",
   "execution_count": 30,
   "metadata": {},
   "outputs": [],
   "source": [
    "df = pd.read_csv(\"data/polandCars/Car_sale_ads.csv\", low_memory = False, parse_dates=['Offer_publication_date'])"
   ]
  },
  {
   "cell_type": "code",
   "execution_count": 31,
   "metadata": {},
   "outputs": [
    {
     "data": {
      "text/plain": [
       "dtype('<M8[ns]')"
      ]
     },
     "execution_count": 31,
     "metadata": {},
     "output_type": "execute_result"
    }
   ],
   "source": [
    "df.Offer_publication_date.dtype"
   ]
  },
  {
   "cell_type": "code",
   "execution_count": 32,
   "metadata": {},
   "outputs": [
    {
     "data": {
      "text/plain": [
       "0   2021-04-05\n",
       "1   2021-03-05\n",
       "2   2021-03-05\n",
       "3   2021-04-30\n",
       "4   2021-04-30\n",
       "Name: Offer_publication_date, dtype: datetime64[ns]"
      ]
     },
     "execution_count": 32,
     "metadata": {},
     "output_type": "execute_result"
    }
   ],
   "source": [
    "df.Offer_publication_date[:5]"
   ]
  },
  {
   "cell_type": "code",
   "execution_count": 35,
   "metadata": {},
   "outputs": [
    {
     "data": {
      "text/plain": [
       "<matplotlib.collections.PathCollection at 0x1aea592b248>"
      ]
     },
     "execution_count": 35,
     "metadata": {},
     "output_type": "execute_result"
    },
    {
     "data": {
      "image/png": "[encoded data removed]",
      "text/plain": [
       "<Figure size 432x288 with 1 Axes>"
      ]
     },
     "metadata": {
      "needs_background": "light"
     },
     "output_type": "display_data"
    }
   ],
   "source": [
    "# Teklif tarihi ve fiyatın ikili ilişkisini gösteren grafik\n",
    "fig, ax = plt.subplots()\n",
    "ax.scatter(df[\"Offer_publication_date\"][:1000], df[\"Price\"][:1000])"
   ]
  },
  {
   "cell_type": "markdown",
   "metadata": {},
   "source": [
    "##### Gereksiz sütunlar temizlenebilir.\n",
    "Aşağıdaki sütunlar verisetinin büyük bir bölümünde veri eksikliğine sahip olduğundan bu sütunları verisetinden çıkarabiliriz."
   ]
  },
  {
   "cell_type": "markdown",
   "metadata": {},
   "source": [
    "- Vehicle_version             70222\n",
    "- Vehicle_generation          60444\n",
    "- CO2_emissions              114257\n",
    "- Origin_country              89992\n",
    "- First_owner                143210\n",
    "- First_registration_date    121859"
   ]
  },
  {
   "cell_type": "code",
   "execution_count": 37,
   "metadata": {},
   "outputs": [],
   "source": [
    "df.drop(\"Vehicle_version\", axis=1, inplace=True)\n",
    "df.drop(\"Vehicle_generation\", axis=1, inplace=True)\n",
    "df.drop(\"CO2_emissions\", axis=1, inplace=True)\n",
    "df.drop(\"Origin_country\", axis=1, inplace=True)\n",
    "df.drop(\"First_owner\", axis=1, inplace=True)\n",
    "df.drop(\"First_registration_date\", axis=1, inplace=True)"
   ]
  },
  {
   "cell_type": "code",
   "execution_count": 97,
   "metadata": {},
   "outputs": [],
   "source": [
    "# Index sütunu ile işimiz olmadığından onu da silebiliriz.\n",
    "df.drop(\"Index\", axis=1, inplace=True)"
   ]
  },
  {
   "cell_type": "code",
   "execution_count": 38,
   "metadata": {},
   "outputs": [
    {
     "data": {
      "text/html": [
       "<div>\n",
       "<style scoped>\n",
       "    .dataframe tbody tr th:only-of-type {\n",
       "        vertical-align: middle;\n",
       "    }\n",
       "\n",
       "    .dataframe tbody tr th {\n",
       "        vertical-align: top;\n",
       "    }\n",
       "\n",
       "    .dataframe thead th {\n",
       "        text-align: right;\n",
       "    }\n",
       "</style>\n",
       "<table border=\"1\" class=\"dataframe\">\n",
       "  <thead>\n",
       "    <tr style=\"text-align: right;\">\n",
       "      <th></th>\n",
       "      <th>0</th>\n",
       "      <th>1</th>\n",
       "      <th>2</th>\n",
       "      <th>3</th>\n",
       "      <th>4</th>\n",
       "    </tr>\n",
       "  </thead>\n",
       "  <tbody>\n",
       "    <tr>\n",
       "      <th>Index</th>\n",
       "      <td>0</td>\n",
       "      <td>1</td>\n",
       "      <td>2</td>\n",
       "      <td>3</td>\n",
       "      <td>4</td>\n",
       "    </tr>\n",
       "    <tr>\n",
       "      <th>Price</th>\n",
       "      <td>86200</td>\n",
       "      <td>43500</td>\n",
       "      <td>44900</td>\n",
       "      <td>39900</td>\n",
       "      <td>97900</td>\n",
       "    </tr>\n",
       "    <tr>\n",
       "      <th>Currency</th>\n",
       "      <td>PLN</td>\n",
       "      <td>PLN</td>\n",
       "      <td>PLN</td>\n",
       "      <td>PLN</td>\n",
       "      <td>PLN</td>\n",
       "    </tr>\n",
       "    <tr>\n",
       "      <th>Condition</th>\n",
       "      <td>New</td>\n",
       "      <td>Used</td>\n",
       "      <td>Used</td>\n",
       "      <td>Used</td>\n",
       "      <td>New</td>\n",
       "    </tr>\n",
       "    <tr>\n",
       "      <th>Vehicle_brand</th>\n",
       "      <td>Abarth</td>\n",
       "      <td>Abarth</td>\n",
       "      <td>Abarth</td>\n",
       "      <td>Abarth</td>\n",
       "      <td>Abarth</td>\n",
       "    </tr>\n",
       "    <tr>\n",
       "      <th>Vehicle_model</th>\n",
       "      <td>595</td>\n",
       "      <td>Other</td>\n",
       "      <td>500</td>\n",
       "      <td>500</td>\n",
       "      <td>595</td>\n",
       "    </tr>\n",
       "    <tr>\n",
       "      <th>Production_year</th>\n",
       "      <td>2021</td>\n",
       "      <td>1974</td>\n",
       "      <td>2018</td>\n",
       "      <td>2012</td>\n",
       "      <td>2021</td>\n",
       "    </tr>\n",
       "    <tr>\n",
       "      <th>Mileage_km</th>\n",
       "      <td>1.0</td>\n",
       "      <td>59000.0</td>\n",
       "      <td>52000.0</td>\n",
       "      <td>29000.0</td>\n",
       "      <td>600.0</td>\n",
       "    </tr>\n",
       "    <tr>\n",
       "      <th>Power_HP</th>\n",
       "      <td>145.0</td>\n",
       "      <td>75.0</td>\n",
       "      <td>180.0</td>\n",
       "      <td>160.0</td>\n",
       "      <td>165.0</td>\n",
       "    </tr>\n",
       "    <tr>\n",
       "      <th>Displacement_cm3</th>\n",
       "      <td>1400.0</td>\n",
       "      <td>1100.0</td>\n",
       "      <td>1368.0</td>\n",
       "      <td>1368.0</td>\n",
       "      <td>1368.0</td>\n",
       "    </tr>\n",
       "    <tr>\n",
       "      <th>Fuel_type</th>\n",
       "      <td>Gasoline</td>\n",
       "      <td>Gasoline</td>\n",
       "      <td>Gasoline</td>\n",
       "      <td>Gasoline</td>\n",
       "      <td>Gasoline</td>\n",
       "    </tr>\n",
       "    <tr>\n",
       "      <th>Drive</th>\n",
       "      <td>Front wheels</td>\n",
       "      <td>Front wheels</td>\n",
       "      <td>NaN</td>\n",
       "      <td>Front wheels</td>\n",
       "      <td>NaN</td>\n",
       "    </tr>\n",
       "    <tr>\n",
       "      <th>Transmission</th>\n",
       "      <td>Manual</td>\n",
       "      <td>Manual</td>\n",
       "      <td>Automatic</td>\n",
       "      <td>Manual</td>\n",
       "      <td>Manual</td>\n",
       "    </tr>\n",
       "    <tr>\n",
       "      <th>Type</th>\n",
       "      <td>small_cars</td>\n",
       "      <td>coupe</td>\n",
       "      <td>small_cars</td>\n",
       "      <td>small_cars</td>\n",
       "      <td>small_cars</td>\n",
       "    </tr>\n",
       "    <tr>\n",
       "      <th>Doors_number</th>\n",
       "      <td>3.0</td>\n",
       "      <td>2.0</td>\n",
       "      <td>3.0</td>\n",
       "      <td>3.0</td>\n",
       "      <td>3.0</td>\n",
       "    </tr>\n",
       "    <tr>\n",
       "      <th>Colour</th>\n",
       "      <td>gray</td>\n",
       "      <td>silver</td>\n",
       "      <td>silver</td>\n",
       "      <td>gray</td>\n",
       "      <td>blue</td>\n",
       "    </tr>\n",
       "    <tr>\n",
       "      <th>Offer_publication_date</th>\n",
       "      <td>2021-04-05 00:00:00</td>\n",
       "      <td>2021-03-05 00:00:00</td>\n",
       "      <td>2021-03-05 00:00:00</td>\n",
       "      <td>2021-04-30 00:00:00</td>\n",
       "      <td>2021-04-30 00:00:00</td>\n",
       "    </tr>\n",
       "    <tr>\n",
       "      <th>Offer_location</th>\n",
       "      <td>ul. Jubilerska 6 - 04-190 Warszawa, Mazowiecki...</td>\n",
       "      <td>kanonierska12 - 04-425 Warszawa, Rembertów (Po...</td>\n",
       "      <td>Warszawa, Mazowieckie, Białołęka</td>\n",
       "      <td>Jaworzno, Śląskie</td>\n",
       "      <td>ul. Gorzysława 9 - 61-057 Poznań, Nowe Miasto ...</td>\n",
       "    </tr>\n",
       "    <tr>\n",
       "      <th>Features</th>\n",
       "      <td>[]</td>\n",
       "      <td>[]</td>\n",
       "      <td>['ABS', 'Electric front windows', 'Drivers air...</td>\n",
       "      <td>['ABS', 'Electric front windows', 'Drivers air...</td>\n",
       "      <td>['ABS', 'Electrically adjustable mirrors', 'Pa...</td>\n",
       "    </tr>\n",
       "  </tbody>\n",
       "</table>\n",
       "</div>"
      ],
      "text/plain": [
       "                                                                        0  \\\n",
       "Index                                                                   0   \n",
       "Price                                                               86200   \n",
       "Currency                                                              PLN   \n",
       "Condition                                                             New   \n",
       "Vehicle_brand                                                      Abarth   \n",
       "Vehicle_model                                                         595   \n",
       "Production_year                                                      2021   \n",
       "Mileage_km                                                            1.0   \n",
       "Power_HP                                                            145.0   \n",
       "Displacement_cm3                                                   1400.0   \n",
       "Fuel_type                                                        Gasoline   \n",
       "Drive                                                        Front wheels   \n",
       "Transmission                                                       Manual   \n",
       "Type                                                           small_cars   \n",
       "Doors_number                                                          3.0   \n",
       "Colour                                                               gray   \n",
       "Offer_publication_date                                2021-04-05 00:00:00   \n",
       "Offer_location          ul. Jubilerska 6 - 04-190 Warszawa, Mazowiecki...   \n",
       "Features                                                               []   \n",
       "\n",
       "                                                                        1  \\\n",
       "Index                                                                   1   \n",
       "Price                                                               43500   \n",
       "Currency                                                              PLN   \n",
       "Condition                                                            Used   \n",
       "Vehicle_brand                                                      Abarth   \n",
       "Vehicle_model                                                       Other   \n",
       "Production_year                                                      1974   \n",
       "Mileage_km                                                        59000.0   \n",
       "Power_HP                                                             75.0   \n",
       "Displacement_cm3                                                   1100.0   \n",
       "Fuel_type                                                        Gasoline   \n",
       "Drive                                                        Front wheels   \n",
       "Transmission                                                       Manual   \n",
       "Type                                                                coupe   \n",
       "Doors_number                                                          2.0   \n",
       "Colour                                                             silver   \n",
       "Offer_publication_date                                2021-03-05 00:00:00   \n",
       "Offer_location          kanonierska12 - 04-425 Warszawa, Rembertów (Po...   \n",
       "Features                                                               []   \n",
       "\n",
       "                                                                        2  \\\n",
       "Index                                                                   2   \n",
       "Price                                                               44900   \n",
       "Currency                                                              PLN   \n",
       "Condition                                                            Used   \n",
       "Vehicle_brand                                                      Abarth   \n",
       "Vehicle_model                                                         500   \n",
       "Production_year                                                      2018   \n",
       "Mileage_km                                                        52000.0   \n",
       "Power_HP                                                            180.0   \n",
       "Displacement_cm3                                                   1368.0   \n",
       "Fuel_type                                                        Gasoline   \n",
       "Drive                                                                 NaN   \n",
       "Transmission                                                    Automatic   \n",
       "Type                                                           small_cars   \n",
       "Doors_number                                                          3.0   \n",
       "Colour                                                             silver   \n",
       "Offer_publication_date                                2021-03-05 00:00:00   \n",
       "Offer_location                           Warszawa, Mazowieckie, Białołęka   \n",
       "Features                ['ABS', 'Electric front windows', 'Drivers air...   \n",
       "\n",
       "                                                                        3  \\\n",
       "Index                                                                   3   \n",
       "Price                                                               39900   \n",
       "Currency                                                              PLN   \n",
       "Condition                                                            Used   \n",
       "Vehicle_brand                                                      Abarth   \n",
       "Vehicle_model                                                         500   \n",
       "Production_year                                                      2012   \n",
       "Mileage_km                                                        29000.0   \n",
       "Power_HP                                                            160.0   \n",
       "Displacement_cm3                                                   1368.0   \n",
       "Fuel_type                                                        Gasoline   \n",
       "Drive                                                        Front wheels   \n",
       "Transmission                                                       Manual   \n",
       "Type                                                           small_cars   \n",
       "Doors_number                                                          3.0   \n",
       "Colour                                                               gray   \n",
       "Offer_publication_date                                2021-04-30 00:00:00   \n",
       "Offer_location                                          Jaworzno, Śląskie   \n",
       "Features                ['ABS', 'Electric front windows', 'Drivers air...   \n",
       "\n",
       "                                                                        4  \n",
       "Index                                                                   4  \n",
       "Price                                                               97900  \n",
       "Currency                                                              PLN  \n",
       "Condition                                                             New  \n",
       "Vehicle_brand                                                      Abarth  \n",
       "Vehicle_model                                                         595  \n",
       "Production_year                                                      2021  \n",
       "Mileage_km                                                          600.0  \n",
       "Power_HP                                                            165.0  \n",
       "Displacement_cm3                                                   1368.0  \n",
       "Fuel_type                                                        Gasoline  \n",
       "Drive                                                                 NaN  \n",
       "Transmission                                                       Manual  \n",
       "Type                                                           small_cars  \n",
       "Doors_number                                                          3.0  \n",
       "Colour                                                               blue  \n",
       "Offer_publication_date                                2021-04-30 00:00:00  \n",
       "Offer_location          ul. Gorzysława 9 - 61-057 Poznań, Nowe Miasto ...  \n",
       "Features                ['ABS', 'Electrically adjustable mirrors', 'Pa...  "
      ]
     },
     "execution_count": 38,
     "metadata": {},
     "output_type": "execute_result"
    }
   ],
   "source": [
    "df.head().T"
   ]
  },
  {
   "cell_type": "code",
   "execution_count": null,
   "metadata": {},
   "outputs": [],
   "source": []
  },
  {
   "cell_type": "code",
   "execution_count": 39,
   "metadata": {},
   "outputs": [
    {
     "data": {
      "text/plain": [
       "PLN    208034\n",
       "EUR       270\n",
       "Name: Currency, dtype: int64"
      ]
     },
     "execution_count": 39,
     "metadata": {},
     "output_type": "execute_result"
    }
   ],
   "source": [
    "# Currency -> para birimi sütununda PLN harici bir veri varmı diye bakalım\n",
    "df['Currency'].value_counts()"
   ]
  },
  {
   "cell_type": "code",
   "execution_count": 45,
   "metadata": {},
   "outputs": [],
   "source": [
    "# Euro olan veriler çok az olduğu için bu verileri verisetimizden çıkarabiliriz.\n",
    "# Farklı para birimleri fazla sayıda bulunsaydı bunları o gün, yada ay için olan ortalama kur\n",
    "# kullanılarak tek bir para birimine çevirme yoluna da gidebilirdik.\n",
    "df = df[df['Currency'] != 'EUR']"
   ]
  },
  {
   "cell_type": "code",
   "execution_count": 46,
   "metadata": {},
   "outputs": [
    {
     "data": {
      "text/plain": [
       "PLN    208034\n",
       "Name: Currency, dtype: int64"
      ]
     },
     "execution_count": 46,
     "metadata": {},
     "output_type": "execute_result"
    }
   ],
   "source": [
    "# Şimdi tüm para birimlerimiz PLN türünde dolayısıyla Currency sütununu da kaldırabiliriz.\n",
    "df['Currency'].value_counts()"
   ]
  },
  {
   "cell_type": "code",
   "execution_count": 47,
   "metadata": {},
   "outputs": [],
   "source": [
    "df.drop(\"Currency\", axis=1, inplace=True)"
   ]
  },
  {
   "cell_type": "markdown",
   "metadata": {},
   "source": [
    "#### Features classındaki Listeler ayrılabilir"
   ]
  },
  {
   "cell_type": "code",
   "execution_count": 71,
   "metadata": {},
   "outputs": [
    {
     "data": {
      "text/plain": [
       "0                                                   []\n",
       "1                                                   []\n",
       "2    ['ABS', 'Electric front windows', 'Drivers air...\n",
       "3    ['ABS', 'Electric front windows', 'Drivers air...\n",
       "4    ['ABS', 'Electrically adjustable mirrors', 'Pa...\n",
       "Name: Features, dtype: object"
      ]
     },
     "execution_count": 71,
     "metadata": {},
     "output_type": "execute_result"
    }
   ],
   "source": [
    "df['Features'].head()"
   ]
  },
  {
   "cell_type": "code",
   "execution_count": 82,
   "metadata": {},
   "outputs": [],
   "source": [
    "import ast\n",
    "# Features sütununu stringten listeye çevirelim\n",
    "df['Features'] = [ast.literal_eval(l) for l in df['Features']]"
   ]
  },
  {
   "cell_type": "code",
   "execution_count": 84,
   "metadata": {},
   "outputs": [
    {
     "data": {
      "text/plain": [
       "0                                                   []\n",
       "1                                                   []\n",
       "2    [ABS, Electric front windows, Drivers airbag, ...\n",
       "3    [ABS, Electric front windows, Drivers airbag, ...\n",
       "4    [ABS, Electrically adjustable mirrors, Passeng...\n",
       "Name: Features, dtype: object"
      ]
     },
     "execution_count": 84,
     "metadata": {},
     "output_type": "execute_result"
    }
   ],
   "source": [
    "# Listeye dönüşmüş oldu\n",
    "df['Features'].head()"
   ]
  },
  {
   "cell_type": "code",
   "execution_count": 69,
   "metadata": {},
   "outputs": [],
   "source": [
    "features = {}\n",
    "for l in df['Features']:\n",
    "    l = ast.literal_eval(l)\n",
    "    for i in l:\n",
    "        if i in features:\n",
    "            features[i] += 1\n",
    "        else:\n",
    "            features[i] = 1"
   ]
  },
  {
   "cell_type": "code",
   "execution_count": 73,
   "metadata": {
    "collapsed": true
   },
   "outputs": [
    {
     "data": {
      "text/plain": [
       "{'ABS': 186256,\n",
       " 'Electric front windows': 181366,\n",
       " 'Drivers airbag': 180545,\n",
       " 'Power steering': 180367,\n",
       " 'ASR (traction control)': 138220,\n",
       " 'Rear view camera': 52946,\n",
       " 'Heated side mirrors': 119833,\n",
       " 'CD': 138426,\n",
       " 'Electrically adjustable mirrors': 173270,\n",
       " 'Passengers airbag': 178672,\n",
       " 'Alarm': 106642,\n",
       " 'Bluetooth': 116486,\n",
       " 'Automatic air conditioning': 134191,\n",
       " 'Airbag protecting the knees': 52382,\n",
       " 'Central locking': 185129,\n",
       " 'Immobilizer': 168606,\n",
       " 'Factory radio': 169453,\n",
       " 'Alloy wheels': 143815,\n",
       " 'Rain sensor': 108175,\n",
       " 'On-board computer': 154387,\n",
       " 'Multifunction steering wheel': 138016,\n",
       " 'AUX socket': 99136,\n",
       " 'Xenon lights': 37538,\n",
       " 'USB socket': 102310,\n",
       " 'MP3': 96108,\n",
       " 'ESP(stabilization of the track)': 143952,\n",
       " 'Front side airbags': 129954,\n",
       " 'Rear parking sensors': 117773,\n",
       " 'Isofix': 133467,\n",
       " 'Air curtains': 117994,\n",
       " 'Tinted windows': 81519,\n",
       " 'Daytime running lights': 105275,\n",
       " 'Rear side airbags': 68498,\n",
       " 'Fog lights': 127098,\n",
       " 'Twilight sensor': 102507,\n",
       " 'GPS navigation': 77723,\n",
       " 'LED lights': 71310,\n",
       " 'Manual air conditioning': 59795,\n",
       " 'Start-Stop system': 69512,\n",
       " 'Electrochromic rear view mirror': 87293,\n",
       " 'Velor upholstery': 54887,\n",
       " 'Electrochromic side mirrors': 58063,\n",
       " 'SD socket': 44774,\n",
       " 'Dual zone air conditioning': 88388,\n",
       " 'Adjustable suspension': 10352,\n",
       " 'Panoramic roof': 19214,\n",
       " 'Sunroof': 19377,\n",
       " 'Front parking sensors': 74834,\n",
       " 'Heated front seats': 86244,\n",
       " 'Leather upholstery': 53840,\n",
       " 'Electrically adjustable seats': 45922,\n",
       " 'Cruise control': 121373,\n",
       " 'Parking assistant': 30919,\n",
       " 'Speed limiter': 47965,\n",
       " 'Heated windscreen': 34049,\n",
       " 'Electric rear windows': 124852,\n",
       " 'Shift paddles': 25221,\n",
       " 'Blind spot sensor': 25431,\n",
       " 'Aftermarket radio': 8331,\n",
       " 'DVD player': 20102,\n",
       " 'CD changer': 15602,\n",
       " 'Auxiliary heating': 7302,\n",
       " 'Heated rear seats': 10292,\n",
       " 'Four-zone air conditioning': 9902,\n",
       " 'TV tuner': 3302,\n",
       " 'Roof rails': 60199,\n",
       " 'Active cruise control': 24801,\n",
       " 'Hook': 29499,\n",
       " 'Lane assistant': 36724,\n",
       " 'HUD(head-up display)': 8665}"
      ]
     },
     "execution_count": 73,
     "metadata": {},
     "output_type": "execute_result"
    }
   ],
   "source": [
    "features"
   ]
  },
  {
   "cell_type": "code",
   "execution_count": 86,
   "metadata": {},
   "outputs": [
    {
     "data": {
      "text/plain": [
       "70"
      ]
     },
     "execution_count": 86,
     "metadata": {},
     "output_type": "execute_result"
    }
   ],
   "source": [
    "len(features)"
   ]
  },
  {
   "cell_type": "code",
   "execution_count": 83,
   "metadata": {},
   "outputs": [],
   "source": [
    "for k in features:\n",
    "    df[k] = [1 if k in l else 0 for l in df['Features'] ]"
   ]
  },
  {
   "cell_type": "code",
   "execution_count": 85,
   "metadata": {},
   "outputs": [
    {
     "data": {
      "text/html": [
       "<div>\n",
       "<style scoped>\n",
       "    .dataframe tbody tr th:only-of-type {\n",
       "        vertical-align: middle;\n",
       "    }\n",
       "\n",
       "    .dataframe tbody tr th {\n",
       "        vertical-align: top;\n",
       "    }\n",
       "\n",
       "    .dataframe thead th {\n",
       "        text-align: right;\n",
       "    }\n",
       "</style>\n",
       "<table border=\"1\" class=\"dataframe\">\n",
       "  <thead>\n",
       "    <tr style=\"text-align: right;\">\n",
       "      <th></th>\n",
       "      <th>0</th>\n",
       "      <th>1</th>\n",
       "      <th>2</th>\n",
       "      <th>3</th>\n",
       "      <th>4</th>\n",
       "    </tr>\n",
       "  </thead>\n",
       "  <tbody>\n",
       "    <tr>\n",
       "      <th>Index</th>\n",
       "      <td>0</td>\n",
       "      <td>1</td>\n",
       "      <td>2</td>\n",
       "      <td>3</td>\n",
       "      <td>4</td>\n",
       "    </tr>\n",
       "    <tr>\n",
       "      <th>Price</th>\n",
       "      <td>86200</td>\n",
       "      <td>43500</td>\n",
       "      <td>44900</td>\n",
       "      <td>39900</td>\n",
       "      <td>97900</td>\n",
       "    </tr>\n",
       "    <tr>\n",
       "      <th>Condition</th>\n",
       "      <td>New</td>\n",
       "      <td>Used</td>\n",
       "      <td>Used</td>\n",
       "      <td>Used</td>\n",
       "      <td>New</td>\n",
       "    </tr>\n",
       "    <tr>\n",
       "      <th>Vehicle_brand</th>\n",
       "      <td>Abarth</td>\n",
       "      <td>Abarth</td>\n",
       "      <td>Abarth</td>\n",
       "      <td>Abarth</td>\n",
       "      <td>Abarth</td>\n",
       "    </tr>\n",
       "    <tr>\n",
       "      <th>Vehicle_model</th>\n",
       "      <td>595</td>\n",
       "      <td>Other</td>\n",
       "      <td>500</td>\n",
       "      <td>500</td>\n",
       "      <td>595</td>\n",
       "    </tr>\n",
       "    <tr>\n",
       "      <th>...</th>\n",
       "      <td>...</td>\n",
       "      <td>...</td>\n",
       "      <td>...</td>\n",
       "      <td>...</td>\n",
       "      <td>...</td>\n",
       "    </tr>\n",
       "    <tr>\n",
       "      <th>Roof rails</th>\n",
       "      <td>0</td>\n",
       "      <td>0</td>\n",
       "      <td>0</td>\n",
       "      <td>0</td>\n",
       "      <td>0</td>\n",
       "    </tr>\n",
       "    <tr>\n",
       "      <th>Active cruise control</th>\n",
       "      <td>0</td>\n",
       "      <td>0</td>\n",
       "      <td>0</td>\n",
       "      <td>0</td>\n",
       "      <td>0</td>\n",
       "    </tr>\n",
       "    <tr>\n",
       "      <th>Hook</th>\n",
       "      <td>0</td>\n",
       "      <td>0</td>\n",
       "      <td>0</td>\n",
       "      <td>0</td>\n",
       "      <td>0</td>\n",
       "    </tr>\n",
       "    <tr>\n",
       "      <th>Lane assistant</th>\n",
       "      <td>0</td>\n",
       "      <td>0</td>\n",
       "      <td>0</td>\n",
       "      <td>0</td>\n",
       "      <td>0</td>\n",
       "    </tr>\n",
       "    <tr>\n",
       "      <th>HUD(head-up display)</th>\n",
       "      <td>0</td>\n",
       "      <td>0</td>\n",
       "      <td>0</td>\n",
       "      <td>0</td>\n",
       "      <td>0</td>\n",
       "    </tr>\n",
       "  </tbody>\n",
       "</table>\n",
       "<p>88 rows × 5 columns</p>\n",
       "</div>"
      ],
      "text/plain": [
       "                            0       1       2       3       4\n",
       "Index                       0       1       2       3       4\n",
       "Price                   86200   43500   44900   39900   97900\n",
       "Condition                 New    Used    Used    Used     New\n",
       "Vehicle_brand          Abarth  Abarth  Abarth  Abarth  Abarth\n",
       "Vehicle_model             595   Other     500     500     595\n",
       "...                       ...     ...     ...     ...     ...\n",
       "Roof rails                  0       0       0       0       0\n",
       "Active cruise control       0       0       0       0       0\n",
       "Hook                        0       0       0       0       0\n",
       "Lane assistant              0       0       0       0       0\n",
       "HUD(head-up display)        0       0       0       0       0\n",
       "\n",
       "[88 rows x 5 columns]"
      ]
     },
     "execution_count": 85,
     "metadata": {},
     "output_type": "execute_result"
    }
   ],
   "source": [
    "df.head().T"
   ]
  },
  {
   "cell_type": "code",
   "execution_count": 87,
   "metadata": {},
   "outputs": [],
   "source": [
    "# Features sütununu artık silebiliriz.\n",
    "df.drop(\"Features\", axis=1, inplace=True)"
   ]
  },
  {
   "cell_type": "markdown",
   "metadata": {},
   "source": [
    "### Kopya almak\n",
    "\n",
    "* Verinin bu halini kaybetmemek için bir kopya alabilir ve onun üzerinde çalışabiliriz."
   ]
  },
  {
   "cell_type": "code",
   "execution_count": 88,
   "metadata": {},
   "outputs": [],
   "source": [
    "df_tmp = df.copy()"
   ]
  },
  {
   "cell_type": "code",
   "execution_count": 89,
   "metadata": {},
   "outputs": [
    {
     "ename": "ValueError",
     "evalue": "could not convert string to float: 'New'",
     "output_type": "error",
     "traceback": [
      "\u001b[1;31m---------------------------------------------------------------------------\u001b[0m",
      "\u001b[1;31mValueError\u001b[0m                                Traceback (most recent call last)",
      "\u001b[1;32m<ipython-input-89-81c53075c83c>\u001b[0m in \u001b[0;36m<module>\u001b[1;34m\u001b[0m\n\u001b[0;32m      5\u001b[0m                               random_state=42)\n\u001b[0;32m      6\u001b[0m \u001b[1;33m\u001b[0m\u001b[0m\n\u001b[1;32m----> 7\u001b[1;33m \u001b[0mmodel\u001b[0m\u001b[1;33m.\u001b[0m\u001b[0mfit\u001b[0m\u001b[1;33m(\u001b[0m\u001b[0mdf_tmp\u001b[0m\u001b[1;33m.\u001b[0m\u001b[0mdrop\u001b[0m\u001b[1;33m(\u001b[0m\u001b[1;34m\"Price\"\u001b[0m\u001b[1;33m,\u001b[0m \u001b[0maxis\u001b[0m\u001b[1;33m=\u001b[0m\u001b[1;36m1\u001b[0m\u001b[1;33m)\u001b[0m\u001b[1;33m,\u001b[0m \u001b[0mdf_tmp\u001b[0m\u001b[1;33m[\u001b[0m\u001b[1;34m\"Price\"\u001b[0m\u001b[1;33m]\u001b[0m\u001b[1;33m)\u001b[0m\u001b[1;33m\u001b[0m\u001b[1;33m\u001b[0m\u001b[0m\n\u001b[0m",
      "\u001b[1;32m~\\AppData\\Roaming\\Python\\Python37\\site-packages\\sklearn\\ensemble\\_forest.py\u001b[0m in \u001b[0;36mfit\u001b[1;34m(self, X, y, sample_weight)\u001b[0m\n\u001b[0;32m    326\u001b[0m             \u001b[1;32mraise\u001b[0m \u001b[0mValueError\u001b[0m\u001b[1;33m(\u001b[0m\u001b[1;34m\"sparse multilabel-indicator for y is not supported.\"\u001b[0m\u001b[1;33m)\u001b[0m\u001b[1;33m\u001b[0m\u001b[1;33m\u001b[0m\u001b[0m\n\u001b[0;32m    327\u001b[0m         X, y = self._validate_data(\n\u001b[1;32m--> 328\u001b[1;33m             \u001b[0mX\u001b[0m\u001b[1;33m,\u001b[0m \u001b[0my\u001b[0m\u001b[1;33m,\u001b[0m \u001b[0mmulti_output\u001b[0m\u001b[1;33m=\u001b[0m\u001b[1;32mTrue\u001b[0m\u001b[1;33m,\u001b[0m \u001b[0maccept_sparse\u001b[0m\u001b[1;33m=\u001b[0m\u001b[1;34m\"csc\"\u001b[0m\u001b[1;33m,\u001b[0m \u001b[0mdtype\u001b[0m\u001b[1;33m=\u001b[0m\u001b[0mDTYPE\u001b[0m\u001b[1;33m\u001b[0m\u001b[1;33m\u001b[0m\u001b[0m\n\u001b[0m\u001b[0;32m    329\u001b[0m         )\n\u001b[0;32m    330\u001b[0m         \u001b[1;32mif\u001b[0m \u001b[0msample_weight\u001b[0m \u001b[1;32mis\u001b[0m \u001b[1;32mnot\u001b[0m \u001b[1;32mNone\u001b[0m\u001b[1;33m:\u001b[0m\u001b[1;33m\u001b[0m\u001b[1;33m\u001b[0m\u001b[0m\n",
      "\u001b[1;32m~\\AppData\\Roaming\\Python\\Python37\\site-packages\\sklearn\\base.py\u001b[0m in \u001b[0;36m_validate_data\u001b[1;34m(self, X, y, reset, validate_separately, **check_params)\u001b[0m\n\u001b[0;32m    579\u001b[0m                 \u001b[0my\u001b[0m \u001b[1;33m=\u001b[0m \u001b[0mcheck_array\u001b[0m\u001b[1;33m(\u001b[0m\u001b[0my\u001b[0m\u001b[1;33m,\u001b[0m \u001b[1;33m**\u001b[0m\u001b[0mcheck_y_params\u001b[0m\u001b[1;33m)\u001b[0m\u001b[1;33m\u001b[0m\u001b[1;33m\u001b[0m\u001b[0m\n\u001b[0;32m    580\u001b[0m             \u001b[1;32melse\u001b[0m\u001b[1;33m:\u001b[0m\u001b[1;33m\u001b[0m\u001b[1;33m\u001b[0m\u001b[0m\n\u001b[1;32m--> 581\u001b[1;33m                 \u001b[0mX\u001b[0m\u001b[1;33m,\u001b[0m \u001b[0my\u001b[0m \u001b[1;33m=\u001b[0m \u001b[0mcheck_X_y\u001b[0m\u001b[1;33m(\u001b[0m\u001b[0mX\u001b[0m\u001b[1;33m,\u001b[0m \u001b[0my\u001b[0m\u001b[1;33m,\u001b[0m \u001b[1;33m**\u001b[0m\u001b[0mcheck_params\u001b[0m\u001b[1;33m)\u001b[0m\u001b[1;33m\u001b[0m\u001b[1;33m\u001b[0m\u001b[0m\n\u001b[0m\u001b[0;32m    582\u001b[0m             \u001b[0mout\u001b[0m \u001b[1;33m=\u001b[0m \u001b[0mX\u001b[0m\u001b[1;33m,\u001b[0m \u001b[0my\u001b[0m\u001b[1;33m\u001b[0m\u001b[1;33m\u001b[0m\u001b[0m\n\u001b[0;32m    583\u001b[0m \u001b[1;33m\u001b[0m\u001b[0m\n",
      "\u001b[1;32m~\\AppData\\Roaming\\Python\\Python37\\site-packages\\sklearn\\utils\\validation.py\u001b[0m in \u001b[0;36mcheck_X_y\u001b[1;34m(X, y, accept_sparse, accept_large_sparse, dtype, order, copy, force_all_finite, ensure_2d, allow_nd, multi_output, ensure_min_samples, ensure_min_features, y_numeric, estimator)\u001b[0m\n\u001b[0;32m    974\u001b[0m         \u001b[0mensure_min_samples\u001b[0m\u001b[1;33m=\u001b[0m\u001b[0mensure_min_samples\u001b[0m\u001b[1;33m,\u001b[0m\u001b[1;33m\u001b[0m\u001b[1;33m\u001b[0m\u001b[0m\n\u001b[0;32m    975\u001b[0m         \u001b[0mensure_min_features\u001b[0m\u001b[1;33m=\u001b[0m\u001b[0mensure_min_features\u001b[0m\u001b[1;33m,\u001b[0m\u001b[1;33m\u001b[0m\u001b[1;33m\u001b[0m\u001b[0m\n\u001b[1;32m--> 976\u001b[1;33m         \u001b[0mestimator\u001b[0m\u001b[1;33m=\u001b[0m\u001b[0mestimator\u001b[0m\u001b[1;33m,\u001b[0m\u001b[1;33m\u001b[0m\u001b[1;33m\u001b[0m\u001b[0m\n\u001b[0m\u001b[0;32m    977\u001b[0m     )\n\u001b[0;32m    978\u001b[0m \u001b[1;33m\u001b[0m\u001b[0m\n",
      "\u001b[1;32m~\\AppData\\Roaming\\Python\\Python37\\site-packages\\sklearn\\utils\\validation.py\u001b[0m in \u001b[0;36mcheck_array\u001b[1;34m(array, accept_sparse, accept_large_sparse, dtype, order, copy, force_all_finite, ensure_2d, allow_nd, ensure_min_samples, ensure_min_features, estimator)\u001b[0m\n\u001b[0;32m    744\u001b[0m                     \u001b[0marray\u001b[0m \u001b[1;33m=\u001b[0m \u001b[0marray\u001b[0m\u001b[1;33m.\u001b[0m\u001b[0mastype\u001b[0m\u001b[1;33m(\u001b[0m\u001b[0mdtype\u001b[0m\u001b[1;33m,\u001b[0m \u001b[0mcasting\u001b[0m\u001b[1;33m=\u001b[0m\u001b[1;34m\"unsafe\"\u001b[0m\u001b[1;33m,\u001b[0m \u001b[0mcopy\u001b[0m\u001b[1;33m=\u001b[0m\u001b[1;32mFalse\u001b[0m\u001b[1;33m)\u001b[0m\u001b[1;33m\u001b[0m\u001b[1;33m\u001b[0m\u001b[0m\n\u001b[0;32m    745\u001b[0m                 \u001b[1;32melse\u001b[0m\u001b[1;33m:\u001b[0m\u001b[1;33m\u001b[0m\u001b[1;33m\u001b[0m\u001b[0m\n\u001b[1;32m--> 746\u001b[1;33m                     \u001b[0marray\u001b[0m \u001b[1;33m=\u001b[0m \u001b[0mnp\u001b[0m\u001b[1;33m.\u001b[0m\u001b[0masarray\u001b[0m\u001b[1;33m(\u001b[0m\u001b[0marray\u001b[0m\u001b[1;33m,\u001b[0m \u001b[0morder\u001b[0m\u001b[1;33m=\u001b[0m\u001b[0morder\u001b[0m\u001b[1;33m,\u001b[0m \u001b[0mdtype\u001b[0m\u001b[1;33m=\u001b[0m\u001b[0mdtype\u001b[0m\u001b[1;33m)\u001b[0m\u001b[1;33m\u001b[0m\u001b[1;33m\u001b[0m\u001b[0m\n\u001b[0m\u001b[0;32m    747\u001b[0m             \u001b[1;32mexcept\u001b[0m \u001b[0mComplexWarning\u001b[0m \u001b[1;32mas\u001b[0m \u001b[0mcomplex_warning\u001b[0m\u001b[1;33m:\u001b[0m\u001b[1;33m\u001b[0m\u001b[1;33m\u001b[0m\u001b[0m\n\u001b[0;32m    748\u001b[0m                 raise ValueError(\n",
      "\u001b[1;32m~\\AppData\\Roaming\\Python\\Python37\\site-packages\\pandas\\core\\generic.py\u001b[0m in \u001b[0;36m__array__\u001b[1;34m(self, dtype)\u001b[0m\n\u001b[0;32m   1991\u001b[0m \u001b[1;33m\u001b[0m\u001b[0m\n\u001b[0;32m   1992\u001b[0m     \u001b[1;32mdef\u001b[0m \u001b[0m__array__\u001b[0m\u001b[1;33m(\u001b[0m\u001b[0mself\u001b[0m\u001b[1;33m,\u001b[0m \u001b[0mdtype\u001b[0m\u001b[1;33m:\u001b[0m \u001b[0mNpDtype\u001b[0m \u001b[1;33m|\u001b[0m \u001b[1;32mNone\u001b[0m \u001b[1;33m=\u001b[0m \u001b[1;32mNone\u001b[0m\u001b[1;33m)\u001b[0m \u001b[1;33m->\u001b[0m \u001b[0mnp\u001b[0m\u001b[1;33m.\u001b[0m\u001b[0mndarray\u001b[0m\u001b[1;33m:\u001b[0m\u001b[1;33m\u001b[0m\u001b[1;33m\u001b[0m\u001b[0m\n\u001b[1;32m-> 1993\u001b[1;33m         \u001b[1;32mreturn\u001b[0m \u001b[0mnp\u001b[0m\u001b[1;33m.\u001b[0m\u001b[0masarray\u001b[0m\u001b[1;33m(\u001b[0m\u001b[0mself\u001b[0m\u001b[1;33m.\u001b[0m\u001b[0m_values\u001b[0m\u001b[1;33m,\u001b[0m \u001b[0mdtype\u001b[0m\u001b[1;33m=\u001b[0m\u001b[0mdtype\u001b[0m\u001b[1;33m)\u001b[0m\u001b[1;33m\u001b[0m\u001b[1;33m\u001b[0m\u001b[0m\n\u001b[0m\u001b[0;32m   1994\u001b[0m \u001b[1;33m\u001b[0m\u001b[0m\n\u001b[0;32m   1995\u001b[0m     def __array_wrap__(\n",
      "\u001b[1;31mValueError\u001b[0m: could not convert string to float: 'New'"
     ]
    }
   ],
   "source": [
    "# Bir makine öğrenmesi modelini kullanmayı deneyelim\n",
    "from sklearn.ensemble import RandomForestRegressor\n",
    "\n",
    "model = RandomForestRegressor(n_jobs=-1,\n",
    "                              random_state=42)\n",
    "\n",
    "model.fit(df_tmp.drop(\"Price\", axis=1), df_tmp[\"Price\"])"
   ]
  },
  {
   "cell_type": "code",
   "execution_count": 90,
   "metadata": {},
   "outputs": [
    {
     "data": {
      "text/plain": [
       "Index                    0\n",
       "Price                    0\n",
       "Condition                0\n",
       "Vehicle_brand            0\n",
       "Vehicle_model            0\n",
       "                        ..\n",
       "Roof rails               0\n",
       "Active cruise control    0\n",
       "Hook                     0\n",
       "Lane assistant           0\n",
       "HUD(head-up display)     0\n",
       "Length: 87, dtype: int64"
      ]
     },
     "execution_count": 90,
     "metadata": {},
     "output_type": "execute_result"
    }
   ],
   "source": [
    "df_tmp.isna().sum()"
   ]
  },
  {
   "cell_type": "code",
   "execution_count": 91,
   "metadata": {},
   "outputs": [
    {
     "name": "stdout",
     "output_type": "stream",
     "text": [
      "<class 'pandas.core.frame.DataFrame'>\n",
      "Int64Index: 208034 entries, 0 to 208303\n",
      "Data columns (total 87 columns):\n",
      " #   Column                           Non-Null Count   Dtype         \n",
      "---  ------                           --------------   -----         \n",
      " 0   Index                            208034 non-null  int64         \n",
      " 1   Price                            208034 non-null  int64         \n",
      " 2   Condition                        208034 non-null  object        \n",
      " 3   Vehicle_brand                    208034 non-null  object        \n",
      " 4   Vehicle_model                    208034 non-null  object        \n",
      " 5   Production_year                  208034 non-null  int64         \n",
      " 6   Mileage_km                       207051 non-null  float64       \n",
      " 7   Power_HP                         207394 non-null  float64       \n",
      " 8   Displacement_cm3                 206082 non-null  float64       \n",
      " 9   Fuel_type                        208034 non-null  object        \n",
      " 10  Drive                            193049 non-null  object        \n",
      " 11  Transmission                     207561 non-null  object        \n",
      " 12  Type                             208034 non-null  object        \n",
      " 13  Doors_number                     206558 non-null  float64       \n",
      " 14  Colour                           208034 non-null  object        \n",
      " 15  Offer_publication_date           208034 non-null  datetime64[ns]\n",
      " 16  Offer_location                   208034 non-null  object        \n",
      " 17  ABS                              208034 non-null  int64         \n",
      " 18  Electric front windows           208034 non-null  int64         \n",
      " 19  Drivers airbag                   208034 non-null  int64         \n",
      " 20  Power steering                   208034 non-null  int64         \n",
      " 21  ASR (traction control)           208034 non-null  int64         \n",
      " 22  Rear view camera                 208034 non-null  int64         \n",
      " 23  Heated side mirrors              208034 non-null  int64         \n",
      " 24  CD                               208034 non-null  int64         \n",
      " 25  Electrically adjustable mirrors  208034 non-null  int64         \n",
      " 26  Passengers airbag                208034 non-null  int64         \n",
      " 27  Alarm                            208034 non-null  int64         \n",
      " 28  Bluetooth                        208034 non-null  int64         \n",
      " 29  Automatic air conditioning       208034 non-null  int64         \n",
      " 30  Airbag protecting the knees      208034 non-null  int64         \n",
      " 31  Central locking                  208034 non-null  int64         \n",
      " 32  Immobilizer                      208034 non-null  int64         \n",
      " 33  Factory radio                    208034 non-null  int64         \n",
      " 34  Alloy wheels                     208034 non-null  int64         \n",
      " 35  Rain sensor                      208034 non-null  int64         \n",
      " 36  On-board computer                208034 non-null  int64         \n",
      " 37  Multifunction steering wheel     208034 non-null  int64         \n",
      " 38  AUX socket                       208034 non-null  int64         \n",
      " 39  Xenon lights                     208034 non-null  int64         \n",
      " 40  USB socket                       208034 non-null  int64         \n",
      " 41  MP3                              208034 non-null  int64         \n",
      " 42  ESP(stabilization of the track)  208034 non-null  int64         \n",
      " 43  Front side airbags               208034 non-null  int64         \n",
      " 44  Rear parking sensors             208034 non-null  int64         \n",
      " 45  Isofix                           208034 non-null  int64         \n",
      " 46  Air curtains                     208034 non-null  int64         \n",
      " 47  Tinted windows                   208034 non-null  int64         \n",
      " 48  Daytime running lights           208034 non-null  int64         \n",
      " 49  Rear side airbags                208034 non-null  int64         \n",
      " 50  Fog lights                       208034 non-null  int64         \n",
      " 51  Twilight sensor                  208034 non-null  int64         \n",
      " 52  GPS navigation                   208034 non-null  int64         \n",
      " 53  LED lights                       208034 non-null  int64         \n",
      " 54  Manual air conditioning          208034 non-null  int64         \n",
      " 55  Start-Stop system                208034 non-null  int64         \n",
      " 56  Electrochromic rear view mirror  208034 non-null  int64         \n",
      " 57  Velor upholstery                 208034 non-null  int64         \n",
      " 58  Electrochromic side mirrors      208034 non-null  int64         \n",
      " 59  SD socket                        208034 non-null  int64         \n",
      " 60  Dual zone air conditioning       208034 non-null  int64         \n",
      " 61  Adjustable suspension            208034 non-null  int64         \n",
      " 62  Panoramic roof                   208034 non-null  int64         \n",
      " 63  Sunroof                          208034 non-null  int64         \n",
      " 64  Front parking sensors            208034 non-null  int64         \n",
      " 65  Heated front seats               208034 non-null  int64         \n",
      " 66  Leather upholstery               208034 non-null  int64         \n",
      " 67  Electrically adjustable seats    208034 non-null  int64         \n",
      " 68  Cruise control                   208034 non-null  int64         \n",
      " 69  Parking assistant                208034 non-null  int64         \n",
      " 70  Speed limiter                    208034 non-null  int64         \n",
      " 71  Heated windscreen                208034 non-null  int64         \n",
      " 72  Electric rear windows            208034 non-null  int64         \n",
      " 73  Shift paddles                    208034 non-null  int64         \n",
      " 74  Blind spot sensor                208034 non-null  int64         \n",
      " 75  Aftermarket radio                208034 non-null  int64         \n",
      " 76  DVD player                       208034 non-null  int64         \n",
      " 77  CD changer                       208034 non-null  int64         \n",
      " 78  Auxiliary heating                208034 non-null  int64         \n",
      " 79  Heated rear seats                208034 non-null  int64         \n",
      " 80  Four-zone air conditioning       208034 non-null  int64         \n",
      " 81  TV tuner                         208034 non-null  int64         \n",
      " 82  Roof rails                       208034 non-null  int64         \n",
      " 83  Active cruise control            208034 non-null  int64         \n",
      " 84  Hook                             208034 non-null  int64         \n",
      " 85  Lane assistant                   208034 non-null  int64         \n",
      " 86  HUD(head-up display)             208034 non-null  int64         \n",
      "dtypes: datetime64[ns](1), float64(4), int64(73), object(9)\n",
      "memory usage: 139.7+ MB\n"
     ]
    }
   ],
   "source": [
    "df_tmp.info()"
   ]
  },
  {
   "cell_type": "markdown",
   "metadata": {},
   "source": [
    "### String içeren sütunları kategorik veriye çevirme\n"
   ]
  },
  {
   "cell_type": "code",
   "execution_count": 92,
   "metadata": {},
   "outputs": [
    {
     "name": "stdout",
     "output_type": "stream",
     "text": [
      "Condition\n",
      "Vehicle_brand\n",
      "Vehicle_model\n",
      "Fuel_type\n",
      "Drive\n",
      "Transmission\n",
      "Type\n",
      "Colour\n",
      "Offer_location\n"
     ]
    }
   ],
   "source": [
    "# String içeren sütunları bulmak için\n",
    "for label, content in df_tmp.items():\n",
    "    if pd.api.types.is_string_dtype(content):\n",
    "        print(label)"
   ]
  },
  {
   "cell_type": "code",
   "execution_count": 93,
   "metadata": {},
   "outputs": [],
   "source": [
    "# Tüm string verileri kategorik veriye çevirmek için\n",
    "for label, content in df_tmp.items():\n",
    "    if pd.api.types.is_string_dtype(content):\n",
    "        df_tmp[label] = content.astype(\"category\").cat.as_ordered()"
   ]
  },
  {
   "cell_type": "code",
   "execution_count": 94,
   "metadata": {},
   "outputs": [
    {
     "name": "stdout",
     "output_type": "stream",
     "text": [
      "<class 'pandas.core.frame.DataFrame'>\n",
      "Int64Index: 208034 entries, 0 to 208303\n",
      "Data columns (total 87 columns):\n",
      " #   Column                           Non-Null Count   Dtype         \n",
      "---  ------                           --------------   -----         \n",
      " 0   Index                            208034 non-null  int64         \n",
      " 1   Price                            208034 non-null  int64         \n",
      " 2   Condition                        208034 non-null  category      \n",
      " 3   Vehicle_brand                    208034 non-null  category      \n",
      " 4   Vehicle_model                    208034 non-null  category      \n",
      " 5   Production_year                  208034 non-null  int64         \n",
      " 6   Mileage_km                       207051 non-null  float64       \n",
      " 7   Power_HP                         207394 non-null  float64       \n",
      " 8   Displacement_cm3                 206082 non-null  float64       \n",
      " 9   Fuel_type                        208034 non-null  category      \n",
      " 10  Drive                            193049 non-null  category      \n",
      " 11  Transmission                     207561 non-null  category      \n",
      " 12  Type                             208034 non-null  category      \n",
      " 13  Doors_number                     206558 non-null  float64       \n",
      " 14  Colour                           208034 non-null  category      \n",
      " 15  Offer_publication_date           208034 non-null  datetime64[ns]\n",
      " 16  Offer_location                   208034 non-null  category      \n",
      " 17  ABS                              208034 non-null  int64         \n",
      " 18  Electric front windows           208034 non-null  int64         \n",
      " 19  Drivers airbag                   208034 non-null  int64         \n",
      " 20  Power steering                   208034 non-null  int64         \n",
      " 21  ASR (traction control)           208034 non-null  int64         \n",
      " 22  Rear view camera                 208034 non-null  int64         \n",
      " 23  Heated side mirrors              208034 non-null  int64         \n",
      " 24  CD                               208034 non-null  int64         \n",
      " 25  Electrically adjustable mirrors  208034 non-null  int64         \n",
      " 26  Passengers airbag                208034 non-null  int64         \n",
      " 27  Alarm                            208034 non-null  int64         \n",
      " 28  Bluetooth                        208034 non-null  int64         \n",
      " 29  Automatic air conditioning       208034 non-null  int64         \n",
      " 30  Airbag protecting the knees      208034 non-null  int64         \n",
      " 31  Central locking                  208034 non-null  int64         \n",
      " 32  Immobilizer                      208034 non-null  int64         \n",
      " 33  Factory radio                    208034 non-null  int64         \n",
      " 34  Alloy wheels                     208034 non-null  int64         \n",
      " 35  Rain sensor                      208034 non-null  int64         \n",
      " 36  On-board computer                208034 non-null  int64         \n",
      " 37  Multifunction steering wheel     208034 non-null  int64         \n",
      " 38  AUX socket                       208034 non-null  int64         \n",
      " 39  Xenon lights                     208034 non-null  int64         \n",
      " 40  USB socket                       208034 non-null  int64         \n",
      " 41  MP3                              208034 non-null  int64         \n",
      " 42  ESP(stabilization of the track)  208034 non-null  int64         \n",
      " 43  Front side airbags               208034 non-null  int64         \n",
      " 44  Rear parking sensors             208034 non-null  int64         \n",
      " 45  Isofix                           208034 non-null  int64         \n",
      " 46  Air curtains                     208034 non-null  int64         \n",
      " 47  Tinted windows                   208034 non-null  int64         \n",
      " 48  Daytime running lights           208034 non-null  int64         \n",
      " 49  Rear side airbags                208034 non-null  int64         \n",
      " 50  Fog lights                       208034 non-null  int64         \n",
      " 51  Twilight sensor                  208034 non-null  int64         \n",
      " 52  GPS navigation                   208034 non-null  int64         \n",
      " 53  LED lights                       208034 non-null  int64         \n",
      " 54  Manual air conditioning          208034 non-null  int64         \n",
      " 55  Start-Stop system                208034 non-null  int64         \n",
      " 56  Electrochromic rear view mirror  208034 non-null  int64         \n",
      " 57  Velor upholstery                 208034 non-null  int64         \n",
      " 58  Electrochromic side mirrors      208034 non-null  int64         \n",
      " 59  SD socket                        208034 non-null  int64         \n",
      " 60  Dual zone air conditioning       208034 non-null  int64         \n",
      " 61  Adjustable suspension            208034 non-null  int64         \n",
      " 62  Panoramic roof                   208034 non-null  int64         \n",
      " 63  Sunroof                          208034 non-null  int64         \n",
      " 64  Front parking sensors            208034 non-null  int64         \n",
      " 65  Heated front seats               208034 non-null  int64         \n",
      " 66  Leather upholstery               208034 non-null  int64         \n",
      " 67  Electrically adjustable seats    208034 non-null  int64         \n",
      " 68  Cruise control                   208034 non-null  int64         \n",
      " 69  Parking assistant                208034 non-null  int64         \n",
      " 70  Speed limiter                    208034 non-null  int64         \n",
      " 71  Heated windscreen                208034 non-null  int64         \n",
      " 72  Electric rear windows            208034 non-null  int64         \n",
      " 73  Shift paddles                    208034 non-null  int64         \n",
      " 74  Blind spot sensor                208034 non-null  int64         \n",
      " 75  Aftermarket radio                208034 non-null  int64         \n",
      " 76  DVD player                       208034 non-null  int64         \n",
      " 77  CD changer                       208034 non-null  int64         \n",
      " 78  Auxiliary heating                208034 non-null  int64         \n",
      " 79  Heated rear seats                208034 non-null  int64         \n",
      " 80  Four-zone air conditioning       208034 non-null  int64         \n",
      " 81  TV tuner                         208034 non-null  int64         \n",
      " 82  Roof rails                       208034 non-null  int64         \n",
      " 83  Active cruise control            208034 non-null  int64         \n",
      " 84  Hook                             208034 non-null  int64         \n",
      " 85  Lane assistant                   208034 non-null  int64         \n",
      " 86  HUD(head-up display)             208034 non-null  int64         \n",
      "dtypes: category(9), datetime64[ns](1), float64(4), int64(73)\n",
      "memory usage: 128.2 MB\n"
     ]
    }
   ],
   "source": [
    "df_tmp.info()"
   ]
  },
  {
   "cell_type": "code",
   "execution_count": 100,
   "metadata": {},
   "outputs": [
    {
     "data": {
      "text/plain": [
       "640"
      ]
     },
     "execution_count": 100,
     "metadata": {},
     "output_type": "execute_result"
    }
   ],
   "source": [
    "# Boş sütunlarımız vardı örneğin Power_HP sütununda 640 değer boştu\n",
    "df_tmp['Power_HP'].isna().sum()"
   ]
  },
  {
   "cell_type": "markdown",
   "metadata": {},
   "source": [
    "## Eksik Verileri Tamamlama\n",
    "### Nümerik Verilerde Eksik Verileri Tamamlama"
   ]
  },
  {
   "cell_type": "code",
   "execution_count": 101,
   "metadata": {},
   "outputs": [
    {
     "name": "stdout",
     "output_type": "stream",
     "text": [
      "Mileage_km\n",
      "Power_HP\n",
      "Displacement_cm3\n",
      "Doors_number\n"
     ]
    }
   ],
   "source": [
    "# Hangi nümerik sütunlar eksik veriye sahip?\n",
    "for label, content in df_tmp.items():\n",
    "    if pd.api.types.is_numeric_dtype(content):\n",
    "        if pd.isnull(content).sum():\n",
    "            print(label)"
   ]
  },
  {
   "cell_type": "code",
   "execution_count": 102,
   "metadata": {},
   "outputs": [],
   "source": [
    "for label, content in df_tmp.items():\n",
    "    if pd.api.types.is_numeric_dtype(content):\n",
    "        if pd.isnull(content).sum():\n",
    "            # Bir verinin eksik olup olmadığını saklayan binary bir sütun ekleyelim\n",
    "            # Bu bizim eklediğimiz sentetik bir veri olduğu için bu bilgiyi kaybetmemek önemli\n",
    "            df_tmp[label+\"_is_missing\"] = pd.isnull(content)\n",
    "            # Eksik nümerik veriyi median değeri ile dolduralım\n",
    "            df_tmp[label] = content.fillna(content.median())"
   ]
  },
  {
   "cell_type": "code",
   "execution_count": 103,
   "metadata": {},
   "outputs": [],
   "source": [
    "# Boş nümerik değer kaldı mı diye kontrol edelim\n",
    "for label, content in df_tmp.items():\n",
    "    if pd.api.types.is_numeric_dtype(content):\n",
    "        if pd.isnull(content).sum():\n",
    "            print(label)"
   ]
  },
  {
   "cell_type": "markdown",
   "metadata": {},
   "source": [
    "### Nümerik Olmayan Verilerde Eksik Verileri Tamamlama"
   ]
  },
  {
   "cell_type": "code",
   "execution_count": 105,
   "metadata": {},
   "outputs": [
    {
     "name": "stdout",
     "output_type": "stream",
     "text": [
      "Condition\n",
      "Vehicle_brand\n",
      "Vehicle_model\n",
      "Fuel_type\n",
      "Drive\n",
      "Transmission\n",
      "Type\n",
      "Colour\n",
      "Offer_publication_date\n",
      "Offer_location\n"
     ]
    }
   ],
   "source": [
    "# Nümerik olmayan sütunları kontrol edelim\n",
    "for label, content in df_tmp.items():\n",
    "    if not pd.api.types.is_numeric_dtype(content):\n",
    "        print(label)"
   ]
  },
  {
   "cell_type": "code",
   "execution_count": 106,
   "metadata": {},
   "outputs": [],
   "source": [
    "# Kategorik verileri sayısal verilere dönüştürüp eksik verileri dolduralım\n",
    "for label, content in df_tmp.items():\n",
    "    if not pd.api.types.is_numeric_dtype(content):\n",
    "        # Bir verinin eksik olup olmadığını saklayan binary bir sütun ekleyelim\n",
    "        # Bu bizim eklediğimiz sentetik bir veri olduğu için bu bilgiyi kaybetmemek önemli\n",
    "        df_tmp[label+\"_is_missing\"] = pd.isnull(content)\n",
    "        # Eksik veri -1 olarak geliyor 1 ile toplayarak eksik verileri 0 olarak güncelledik\n",
    "        df_tmp[label] = pd.Categorical(content).codes+1"
   ]
  },
  {
   "cell_type": "code",
   "execution_count": 107,
   "metadata": {},
   "outputs": [
    {
     "name": "stdout",
     "output_type": "stream",
     "text": [
      "<class 'pandas.core.frame.DataFrame'>\n",
      "Int64Index: 208034 entries, 0 to 208303\n",
      "Data columns (total 100 columns):\n",
      " #   Column                             Non-Null Count   Dtype  \n",
      "---  ------                             --------------   -----  \n",
      " 0   Price                              208034 non-null  int64  \n",
      " 1   Condition                          208034 non-null  int8   \n",
      " 2   Vehicle_brand                      208034 non-null  int8   \n",
      " 3   Vehicle_model                      208034 non-null  int16  \n",
      " 4   Production_year                    208034 non-null  int64  \n",
      " 5   Mileage_km                         208034 non-null  float64\n",
      " 6   Power_HP                           208034 non-null  float64\n",
      " 7   Displacement_cm3                   208034 non-null  float64\n",
      " 8   Fuel_type                          208034 non-null  int8   \n",
      " 9   Drive                              208034 non-null  int8   \n",
      " 10  Transmission                       208034 non-null  int8   \n",
      " 11  Type                               208034 non-null  int8   \n",
      " 12  Doors_number                       208034 non-null  float64\n",
      " 13  Colour                             208034 non-null  int8   \n",
      " 14  Offer_publication_date             208034 non-null  int8   \n",
      " 15  Offer_location                     208034 non-null  int16  \n",
      " 16  ABS                                208034 non-null  int64  \n",
      " 17  Electric front windows             208034 non-null  int64  \n",
      " 18  Drivers airbag                     208034 non-null  int64  \n",
      " 19  Power steering                     208034 non-null  int64  \n",
      " 20  ASR (traction control)             208034 non-null  int64  \n",
      " 21  Rear view camera                   208034 non-null  int64  \n",
      " 22  Heated side mirrors                208034 non-null  int64  \n",
      " 23  CD                                 208034 non-null  int64  \n",
      " 24  Electrically adjustable mirrors    208034 non-null  int64  \n",
      " 25  Passengers airbag                  208034 non-null  int64  \n",
      " 26  Alarm                              208034 non-null  int64  \n",
      " 27  Bluetooth                          208034 non-null  int64  \n",
      " 28  Automatic air conditioning         208034 non-null  int64  \n",
      " 29  Airbag protecting the knees        208034 non-null  int64  \n",
      " 30  Central locking                    208034 non-null  int64  \n",
      " 31  Immobilizer                        208034 non-null  int64  \n",
      " 32  Factory radio                      208034 non-null  int64  \n",
      " 33  Alloy wheels                       208034 non-null  int64  \n",
      " 34  Rain sensor                        208034 non-null  int64  \n",
      " 35  On-board computer                  208034 non-null  int64  \n",
      " 36  Multifunction steering wheel       208034 non-null  int64  \n",
      " 37  AUX socket                         208034 non-null  int64  \n",
      " 38  Xenon lights                       208034 non-null  int64  \n",
      " 39  USB socket                         208034 non-null  int64  \n",
      " 40  MP3                                208034 non-null  int64  \n",
      " 41  ESP(stabilization of the track)    208034 non-null  int64  \n",
      " 42  Front side airbags                 208034 non-null  int64  \n",
      " 43  Rear parking sensors               208034 non-null  int64  \n",
      " 44  Isofix                             208034 non-null  int64  \n",
      " 45  Air curtains                       208034 non-null  int64  \n",
      " 46  Tinted windows                     208034 non-null  int64  \n",
      " 47  Daytime running lights             208034 non-null  int64  \n",
      " 48  Rear side airbags                  208034 non-null  int64  \n",
      " 49  Fog lights                         208034 non-null  int64  \n",
      " 50  Twilight sensor                    208034 non-null  int64  \n",
      " 51  GPS navigation                     208034 non-null  int64  \n",
      " 52  LED lights                         208034 non-null  int64  \n",
      " 53  Manual air conditioning            208034 non-null  int64  \n",
      " 54  Start-Stop system                  208034 non-null  int64  \n",
      " 55  Electrochromic rear view mirror    208034 non-null  int64  \n",
      " 56  Velor upholstery                   208034 non-null  int64  \n",
      " 57  Electrochromic side mirrors        208034 non-null  int64  \n",
      " 58  SD socket                          208034 non-null  int64  \n",
      " 59  Dual zone air conditioning         208034 non-null  int64  \n",
      " 60  Adjustable suspension              208034 non-null  int64  \n",
      " 61  Panoramic roof                     208034 non-null  int64  \n",
      " 62  Sunroof                            208034 non-null  int64  \n",
      " 63  Front parking sensors              208034 non-null  int64  \n",
      " 64  Heated front seats                 208034 non-null  int64  \n",
      " 65  Leather upholstery                 208034 non-null  int64  \n",
      " 66  Electrically adjustable seats      208034 non-null  int64  \n",
      " 67  Cruise control                     208034 non-null  int64  \n",
      " 68  Parking assistant                  208034 non-null  int64  \n",
      " 69  Speed limiter                      208034 non-null  int64  \n",
      " 70  Heated windscreen                  208034 non-null  int64  \n",
      " 71  Electric rear windows              208034 non-null  int64  \n",
      " 72  Shift paddles                      208034 non-null  int64  \n",
      " 73  Blind spot sensor                  208034 non-null  int64  \n",
      " 74  Aftermarket radio                  208034 non-null  int64  \n",
      " 75  DVD player                         208034 non-null  int64  \n",
      " 76  CD changer                         208034 non-null  int64  \n",
      " 77  Auxiliary heating                  208034 non-null  int64  \n",
      " 78  Heated rear seats                  208034 non-null  int64  \n",
      " 79  Four-zone air conditioning         208034 non-null  int64  \n",
      " 80  TV tuner                           208034 non-null  int64  \n",
      " 81  Roof rails                         208034 non-null  int64  \n",
      " 82  Active cruise control              208034 non-null  int64  \n",
      " 83  Hook                               208034 non-null  int64  \n",
      " 84  Lane assistant                     208034 non-null  int64  \n",
      " 85  HUD(head-up display)               208034 non-null  int64  \n",
      " 86  Mileage_km_is_missing              208034 non-null  bool   \n",
      " 87  Power_HP_is_missing                208034 non-null  bool   \n",
      " 88  Displacement_cm3_is_missing        208034 non-null  bool   \n",
      " 89  Doors_number_is_missing            208034 non-null  bool   \n",
      " 90  Condition_is_missing               208034 non-null  bool   \n",
      " 91  Vehicle_brand_is_missing           208034 non-null  bool   \n",
      " 92  Vehicle_model_is_missing           208034 non-null  bool   \n",
      " 93  Fuel_type_is_missing               208034 non-null  bool   \n",
      " 94  Drive_is_missing                   208034 non-null  bool   \n",
      " 95  Transmission_is_missing            208034 non-null  bool   \n",
      " 96  Type_is_missing                    208034 non-null  bool   \n",
      " 97  Colour_is_missing                  208034 non-null  bool   \n",
      " 98  Offer_publication_date_is_missing  208034 non-null  bool   \n",
      " 99  Offer_location_is_missing          208034 non-null  bool   \n",
      "dtypes: bool(14), float64(4), int16(2), int64(72), int8(8)\n",
      "memory usage: 127.4 MB\n"
     ]
    }
   ],
   "source": [
    "df_tmp.info()"
   ]
  },
  {
   "cell_type": "code",
   "execution_count": 108,
   "metadata": {},
   "outputs": [
    {
     "data": {
      "text/html": [
       "<div>\n",
       "<style scoped>\n",
       "    .dataframe tbody tr th:only-of-type {\n",
       "        vertical-align: middle;\n",
       "    }\n",
       "\n",
       "    .dataframe tbody tr th {\n",
       "        vertical-align: top;\n",
       "    }\n",
       "\n",
       "    .dataframe thead th {\n",
       "        text-align: right;\n",
       "    }\n",
       "</style>\n",
       "<table border=\"1\" class=\"dataframe\">\n",
       "  <thead>\n",
       "    <tr style=\"text-align: right;\">\n",
       "      <th></th>\n",
       "      <th>0</th>\n",
       "      <th>1</th>\n",
       "      <th>2</th>\n",
       "      <th>3</th>\n",
       "      <th>4</th>\n",
       "    </tr>\n",
       "  </thead>\n",
       "  <tbody>\n",
       "    <tr>\n",
       "      <th>Price</th>\n",
       "      <td>86200</td>\n",
       "      <td>43500</td>\n",
       "      <td>44900</td>\n",
       "      <td>39900</td>\n",
       "      <td>97900</td>\n",
       "    </tr>\n",
       "    <tr>\n",
       "      <th>Condition</th>\n",
       "      <td>1</td>\n",
       "      <td>2</td>\n",
       "      <td>2</td>\n",
       "      <td>2</td>\n",
       "      <td>1</td>\n",
       "    </tr>\n",
       "    <tr>\n",
       "      <th>Vehicle_brand</th>\n",
       "      <td>1</td>\n",
       "      <td>1</td>\n",
       "      <td>1</td>\n",
       "      <td>1</td>\n",
       "      <td>1</td>\n",
       "    </tr>\n",
       "    <tr>\n",
       "      <th>Vehicle_model</th>\n",
       "      <td>124</td>\n",
       "      <td>769</td>\n",
       "      <td>114</td>\n",
       "      <td>114</td>\n",
       "      <td>124</td>\n",
       "    </tr>\n",
       "    <tr>\n",
       "      <th>Production_year</th>\n",
       "      <td>2021</td>\n",
       "      <td>1974</td>\n",
       "      <td>2018</td>\n",
       "      <td>2012</td>\n",
       "      <td>2021</td>\n",
       "    </tr>\n",
       "    <tr>\n",
       "      <th>...</th>\n",
       "      <td>...</td>\n",
       "      <td>...</td>\n",
       "      <td>...</td>\n",
       "      <td>...</td>\n",
       "      <td>...</td>\n",
       "    </tr>\n",
       "    <tr>\n",
       "      <th>Transmission_is_missing</th>\n",
       "      <td>False</td>\n",
       "      <td>False</td>\n",
       "      <td>False</td>\n",
       "      <td>False</td>\n",
       "      <td>False</td>\n",
       "    </tr>\n",
       "    <tr>\n",
       "      <th>Type_is_missing</th>\n",
       "      <td>False</td>\n",
       "      <td>False</td>\n",
       "      <td>False</td>\n",
       "      <td>False</td>\n",
       "      <td>False</td>\n",
       "    </tr>\n",
       "    <tr>\n",
       "      <th>Colour_is_missing</th>\n",
       "      <td>False</td>\n",
       "      <td>False</td>\n",
       "      <td>False</td>\n",
       "      <td>False</td>\n",
       "      <td>False</td>\n",
       "    </tr>\n",
       "    <tr>\n",
       "      <th>Offer_publication_date_is_missing</th>\n",
       "      <td>False</td>\n",
       "      <td>False</td>\n",
       "      <td>False</td>\n",
       "      <td>False</td>\n",
       "      <td>False</td>\n",
       "    </tr>\n",
       "    <tr>\n",
       "      <th>Offer_location_is_missing</th>\n",
       "      <td>False</td>\n",
       "      <td>False</td>\n",
       "      <td>False</td>\n",
       "      <td>False</td>\n",
       "      <td>False</td>\n",
       "    </tr>\n",
       "  </tbody>\n",
       "</table>\n",
       "<p>100 rows × 5 columns</p>\n",
       "</div>"
      ],
      "text/plain": [
       "                                       0      1      2      3      4\n",
       "Price                              86200  43500  44900  39900  97900\n",
       "Condition                              1      2      2      2      1\n",
       "Vehicle_brand                          1      1      1      1      1\n",
       "Vehicle_model                        124    769    114    114    124\n",
       "Production_year                     2021   1974   2018   2012   2021\n",
       "...                                  ...    ...    ...    ...    ...\n",
       "Transmission_is_missing            False  False  False  False  False\n",
       "Type_is_missing                    False  False  False  False  False\n",
       "Colour_is_missing                  False  False  False  False  False\n",
       "Offer_publication_date_is_missing  False  False  False  False  False\n",
       "Offer_location_is_missing          False  False  False  False  False\n",
       "\n",
       "[100 rows x 5 columns]"
      ]
     },
     "execution_count": 108,
     "metadata": {},
     "output_type": "execute_result"
    }
   ],
   "source": [
    "df_tmp.head().T"
   ]
  },
  {
   "cell_type": "markdown",
   "metadata": {},
   "source": [
    "#### Tüm veriler nümerik veriye çevrildi ve bir makine öğrenmesi modeli oluşturmaya hazır"
   ]
  },
  {
   "cell_type": "markdown",
   "metadata": {},
   "source": [
    "#### Ön İşlemesi Bitmiş Veriyi Kaydetmek İstersek"
   ]
  },
  {
   "cell_type": "code",
   "execution_count": 109,
   "metadata": {},
   "outputs": [],
   "source": [
    "# Data frame i bir csv dosyasına kaydetme\n",
    "df_tmp.to_csv(\"data/car_sale_poland.csv\",\n",
    "              index=False)"
   ]
  },
  {
   "cell_type": "code",
   "execution_count": 110,
   "metadata": {},
   "outputs": [
    {
     "data": {
      "text/html": [
       "<div>\n",
       "<style scoped>\n",
       "    .dataframe tbody tr th:only-of-type {\n",
       "        vertical-align: middle;\n",
       "    }\n",
       "\n",
       "    .dataframe tbody tr th {\n",
       "        vertical-align: top;\n",
       "    }\n",
       "\n",
       "    .dataframe thead th {\n",
       "        text-align: right;\n",
       "    }\n",
       "</style>\n",
       "<table border=\"1\" class=\"dataframe\">\n",
       "  <thead>\n",
       "    <tr style=\"text-align: right;\">\n",
       "      <th></th>\n",
       "      <th>0</th>\n",
       "      <th>1</th>\n",
       "      <th>2</th>\n",
       "      <th>3</th>\n",
       "      <th>4</th>\n",
       "    </tr>\n",
       "  </thead>\n",
       "  <tbody>\n",
       "    <tr>\n",
       "      <th>Price</th>\n",
       "      <td>86200</td>\n",
       "      <td>43500</td>\n",
       "      <td>44900</td>\n",
       "      <td>39900</td>\n",
       "      <td>97900</td>\n",
       "    </tr>\n",
       "    <tr>\n",
       "      <th>Condition</th>\n",
       "      <td>1</td>\n",
       "      <td>2</td>\n",
       "      <td>2</td>\n",
       "      <td>2</td>\n",
       "      <td>1</td>\n",
       "    </tr>\n",
       "    <tr>\n",
       "      <th>Vehicle_brand</th>\n",
       "      <td>1</td>\n",
       "      <td>1</td>\n",
       "      <td>1</td>\n",
       "      <td>1</td>\n",
       "      <td>1</td>\n",
       "    </tr>\n",
       "    <tr>\n",
       "      <th>Vehicle_model</th>\n",
       "      <td>124</td>\n",
       "      <td>769</td>\n",
       "      <td>114</td>\n",
       "      <td>114</td>\n",
       "      <td>124</td>\n",
       "    </tr>\n",
       "    <tr>\n",
       "      <th>Production_year</th>\n",
       "      <td>2021</td>\n",
       "      <td>1974</td>\n",
       "      <td>2018</td>\n",
       "      <td>2012</td>\n",
       "      <td>2021</td>\n",
       "    </tr>\n",
       "    <tr>\n",
       "      <th>...</th>\n",
       "      <td>...</td>\n",
       "      <td>...</td>\n",
       "      <td>...</td>\n",
       "      <td>...</td>\n",
       "      <td>...</td>\n",
       "    </tr>\n",
       "    <tr>\n",
       "      <th>Transmission_is_missing</th>\n",
       "      <td>False</td>\n",
       "      <td>False</td>\n",
       "      <td>False</td>\n",
       "      <td>False</td>\n",
       "      <td>False</td>\n",
       "    </tr>\n",
       "    <tr>\n",
       "      <th>Type_is_missing</th>\n",
       "      <td>False</td>\n",
       "      <td>False</td>\n",
       "      <td>False</td>\n",
       "      <td>False</td>\n",
       "      <td>False</td>\n",
       "    </tr>\n",
       "    <tr>\n",
       "      <th>Colour_is_missing</th>\n",
       "      <td>False</td>\n",
       "      <td>False</td>\n",
       "      <td>False</td>\n",
       "      <td>False</td>\n",
       "      <td>False</td>\n",
       "    </tr>\n",
       "    <tr>\n",
       "      <th>Offer_publication_date_is_missing</th>\n",
       "      <td>False</td>\n",
       "      <td>False</td>\n",
       "      <td>False</td>\n",
       "      <td>False</td>\n",
       "      <td>False</td>\n",
       "    </tr>\n",
       "    <tr>\n",
       "      <th>Offer_location_is_missing</th>\n",
       "      <td>False</td>\n",
       "      <td>False</td>\n",
       "      <td>False</td>\n",
       "      <td>False</td>\n",
       "      <td>False</td>\n",
       "    </tr>\n",
       "  </tbody>\n",
       "</table>\n",
       "<p>100 rows × 5 columns</p>\n",
       "</div>"
      ],
      "text/plain": [
       "                                       0      1      2      3      4\n",
       "Price                              86200  43500  44900  39900  97900\n",
       "Condition                              1      2      2      2      1\n",
       "Vehicle_brand                          1      1      1      1      1\n",
       "Vehicle_model                        124    769    114    114    124\n",
       "Production_year                     2021   1974   2018   2012   2021\n",
       "...                                  ...    ...    ...    ...    ...\n",
       "Transmission_is_missing            False  False  False  False  False\n",
       "Type_is_missing                    False  False  False  False  False\n",
       "Colour_is_missing                  False  False  False  False  False\n",
       "Offer_publication_date_is_missing  False  False  False  False  False\n",
       "Offer_location_is_missing          False  False  False  False  False\n",
       "\n",
       "[100 rows x 5 columns]"
      ]
     },
     "execution_count": 110,
     "metadata": {},
     "output_type": "execute_result"
    }
   ],
   "source": [
    "# Data frame i csv dosyasından okuma\n",
    "df_tmp = pd.read_csv(\"data/car_sale_poland.csv\",\n",
    "                     low_memory=False)\n",
    "df_tmp.head().T"
   ]
  },
  {
   "cell_type": "code",
   "execution_count": 111,
   "metadata": {},
   "outputs": [
    {
     "data": {
      "text/plain": [
       "208034"
      ]
     },
     "execution_count": 111,
     "metadata": {},
     "output_type": "execute_result"
    }
   ],
   "source": [
    "# Toplam veri sayımız\n",
    "len(df_tmp)"
   ]
  },
  {
   "cell_type": "markdown",
   "metadata": {},
   "source": [
    "## Model Oluşturma"
   ]
  },
  {
   "cell_type": "code",
   "execution_count": 112,
   "metadata": {},
   "outputs": [
    {
     "name": "stdout",
     "output_type": "stream",
     "text": [
      "Wall time: 1min 52s\n"
     ]
    },
    {
     "data": {
      "text/plain": [
       "RandomForestRegressor(n_jobs=-1, random_state=42)"
      ]
     },
     "execution_count": 112,
     "metadata": {},
     "output_type": "execute_result"
    }
   ],
   "source": [
    "%%time\n",
    "# Model Oluşturma\n",
    "model = RandomForestRegressor(n_jobs=-1,\n",
    "                              random_state=42)\n",
    "\n",
    "# Modeli Eğitme\n",
    "model.fit(df_tmp.drop(\"Price\", axis=1), df_tmp[\"Price\"])"
   ]
  },
  {
   "cell_type": "markdown",
   "metadata": {},
   "source": [
    "#### Model Değerlendirme"
   ]
  },
  {
   "cell_type": "code",
   "execution_count": 113,
   "metadata": {},
   "outputs": [
    {
     "data": {
      "text/plain": [
       "0.9874174516152238"
      ]
     },
     "execution_count": 113,
     "metadata": {},
     "output_type": "execute_result"
    }
   ],
   "source": [
    "model.score(df_tmp.drop(\"Price\", axis=1), df_tmp[\"Price\"])"
   ]
  },
  {
   "cell_type": "markdown",
   "metadata": {},
   "source": [
    "#### Model Başarısı\n",
    "\n",
    "**Soru:** Model başarımız %99 a yakın gözüküyor ancak bu başarı güvenilir mi?\n",
    "* Bu başarı güvenilir değil çünkü tamamen eğitim setindeki başarımız.\n",
    "* Bu başarımın güvenilir olması adına verimizi eğitim ve test verisi olmak üzere parçaya bölmek gerekli. Eğitimdeki başarının modelin hiç görmediği test verisi üzerinde de devam etmesi önemli.\n",
    "* Ayrıca eğitim aşamasında eğitim verisini ezberlememek adına eğitim verisi de kendi içerisinde eğitim ve doğrulama verisi olarak iki kısıma ayrılmalıdır.\n",
    "* Burada literatürde pek çok yaklaşım mevcuttur. %60 Eğitim %20 Doğrulama %20 Test verisi yaklaşımıda sıkça kullanılan yaklaşımlardan birisidir."
   ]
  },
  {
   "cell_type": "markdown",
   "metadata": {},
   "source": [
    "### Veri Setini Eğitim, Doğrulama ve Test kümelerine ayırma"
   ]
  },
  {
   "cell_type": "code",
   "execution_count": 117,
   "metadata": {},
   "outputs": [],
   "source": [
    "from sklearn.model_selection import train_test_split\n",
    "\n",
    "X_train, X_test, y_train, y_test = train_test_split(df_tmp.drop(\"Price\", axis=1), df_tmp[\"Price\"], test_size=0.20, random_state=42)"
   ]
  },
  {
   "cell_type": "code",
   "execution_count": 119,
   "metadata": {},
   "outputs": [
    {
     "data": {
      "text/plain": [
       "(166427, 41607)"
      ]
     },
     "execution_count": 119,
     "metadata": {},
     "output_type": "execute_result"
    }
   ],
   "source": [
    "len(X_train), len(X_test)"
   ]
  },
  {
   "cell_type": "code",
   "execution_count": 120,
   "metadata": {},
   "outputs": [
    {
     "data": {
      "text/plain": [
       "101883    153627\n",
       "74729     141800\n",
       "108432      8500\n",
       "39594       8200\n",
       "179547    125000\n",
       "Name: Price, dtype: int64"
      ]
     },
     "execution_count": 120,
     "metadata": {},
     "output_type": "execute_result"
    }
   ],
   "source": [
    "y_train.head()"
   ]
  },
  {
   "cell_type": "code",
   "execution_count": 136,
   "metadata": {},
   "outputs": [],
   "source": [
    "X_train, X_valid, y_train, y_valid = train_test_split(X_train, y_train, test_size=0.20, random_state=42)"
   ]
  },
  {
   "cell_type": "code",
   "execution_count": 138,
   "metadata": {},
   "outputs": [
    {
     "data": {
      "text/plain": [
       "(133141, 33286, 41607)"
      ]
     },
     "execution_count": 138,
     "metadata": {},
     "output_type": "execute_result"
    }
   ],
   "source": [
    "len(X_train), len(X_valid), len(X_test)"
   ]
  },
  {
   "cell_type": "code",
   "execution_count": 139,
   "metadata": {},
   "outputs": [
    {
     "data": {
      "text/plain": [
       "(133141, 33286, 41607)"
      ]
     },
     "execution_count": 139,
     "metadata": {},
     "output_type": "execute_result"
    }
   ],
   "source": [
    "len(y_train), len(y_valid), len(y_test)"
   ]
  },
  {
   "cell_type": "markdown",
   "metadata": {},
   "source": [
    "## Değerlendirme Fonksiyonu Oluşturma"
   ]
  },
  {
   "cell_type": "code",
   "execution_count": 140,
   "metadata": {},
   "outputs": [],
   "source": [
    "# Değerlendirme fonksiyonu (RMSLE -> Root Mean Squared Logaritmic Error)\n",
    "from sklearn.metrics import mean_squared_log_error, mean_absolute_error, r2_score\n",
    "\n",
    "def rmsle(y_test, y_preds):\n",
    "    \"\"\"\n",
    "    Tahmin değerleri ve olması gereken değerler arasında \n",
    "    Mean squared log error hesaplaması yapar. \n",
    "    \"\"\"\n",
    "    return np.sqrt(mean_squared_log_error(y_test, y_preds))\n",
    "\n",
    "# Bir kaç farklı seviyede hata ölçen fonksiyonlar\n",
    "def show_scores(model):\n",
    "    train_preds = model.predict(X_train)\n",
    "    test_preds = model.predict(X_valid)\n",
    "    scores = {\"Eğitim MAE\": mean_absolute_error(y_train, train_preds),\n",
    "              \"Doğrulama MAE\": mean_absolute_error(y_valid, test_preds),\n",
    "              \"Eğitim RMSLE\": rmsle(y_train, train_preds),\n",
    "              \"Doğrulama RMSLE\": rmsle(y_valid, test_preds),\n",
    "              \"Eğitim R^2\": r2_score(y_train, train_preds),\n",
    "              \"Doğrulama R^2\": r2_score(y_valid, test_preds)}\n",
    "    return scores"
   ]
  },
  {
   "cell_type": "markdown",
   "metadata": {},
   "source": [
    "### Modelimizi bir Alt Kümede Test Etmek\n",
    "\n",
    "* Eğitim süreleri çok fazla süreceğinden, hiperparametre dediğimiz, modeli oluşturan kişi tarafından ayarlanan model parametrelerinin en optimal halini bulmak için veriyi iyi temsil eden bir alt küme ile hiper parametreler belirlenebilir.\n",
    "\n",
    "* **Veriyi iyi temsil etmek:** Veriden rastgele sayıda aldığımız alt veri kümelerinde hata oranı çok yüksek miktarda sapma göstermiyorsa bu alt küme sayısı veriyi iyi temsil ediyor diyebiliriz."
   ]
  },
  {
   "cell_type": "code",
   "execution_count": 141,
   "metadata": {},
   "outputs": [],
   "source": [
    "# max_samples değeri ile modelin bir seferde alacağı rastgele veri sayısını belirtebiliriz.\n",
    "model = RandomForestRegressor(n_jobs=-1,\n",
    "                              random_state=42,\n",
    "                              bootstrap = True,\n",
    "                              max_samples=10000)"
   ]
  },
  {
   "cell_type": "code",
   "execution_count": 142,
   "metadata": {},
   "outputs": [
    {
     "name": "stdout",
     "output_type": "stream",
     "text": [
      "Wall time: 8.59 s\n"
     ]
    },
    {
     "data": {
      "text/plain": [
       "RandomForestRegressor(max_samples=10000, n_jobs=-1, random_state=42)"
      ]
     },
     "execution_count": 142,
     "metadata": {},
     "output_type": "execute_result"
    }
   ],
   "source": [
    "%%time\n",
    "# max_samples parametresi sayesinde eğitim süresi oldukça düştü\n",
    "model.fit(X_train, y_train)"
   ]
  },
  {
   "cell_type": "code",
   "execution_count": 143,
   "metadata": {},
   "outputs": [
    {
     "data": {
      "text/plain": [
       "{'Eğitim MAE': 9957.842023268564,\n",
       " 'Doğrulama MAE': 10363.748210609065,\n",
       " 'Eğitim RMSLE': 0.2751396221726625,\n",
       " 'Doğrulama RMSLE': 0.2915667793005736,\n",
       " 'Eğitim R^2': 0.8623487501955625,\n",
       " 'Doğrulama R^2': 0.9023828713298793}"
      ]
     },
     "execution_count": 143,
     "metadata": {},
     "output_type": "execute_result"
    }
   ],
   "source": [
    "show_scores(model)"
   ]
  },
  {
   "cell_type": "markdown",
   "metadata": {},
   "source": [
    "## Hiper Parametre Seçimi\n",
    "\n",
    "* Python'da bulunan RandomizedSearchCV kütüphanesi ile pek çok parametreyi veriyi iyi temsil eden bir alt küme ile deneyebilir ve bizim için en iyi sonucu veren değerler ile tüm veriyi yalnızca bir kez eğitebiliriz."
   ]
  },
  {
   "cell_type": "code",
   "execution_count": 144,
   "metadata": {},
   "outputs": [
    {
     "name": "stdout",
     "output_type": "stream",
     "text": [
      "Fitting 5 folds for each of 100 candidates, totalling 500 fits\n",
      "Wall time: 16min 58s\n"
     ]
    },
    {
     "data": {
      "text/plain": [
       "RandomizedSearchCV(cv=5,\n",
       "                   estimator=RandomForestRegressor(n_jobs=-1, random_state=42),\n",
       "                   n_iter=100,\n",
       "                   param_distributions={'max_depth': [None, 3, 5, 10],\n",
       "                                        'max_features': [0.5, 1, 'sqrt',\n",
       "                                                         'auto'],\n",
       "                                        'max_samples': [10000],\n",
       "                                        'min_samples_leaf': array([ 1,  3,  5,  7,  9, 11, 13, 15, 17, 19]),\n",
       "                                        'min_samples_split': array([ 2,  4,  6,  8, 10, 12, 14, 16, 18]),\n",
       "                                        'n_estimators': array([10, 20, 30, 40, 50, 60, 70, 80, 90])},\n",
       "                   verbose=True)"
      ]
     },
     "execution_count": 144,
     "metadata": {},
     "output_type": "execute_result"
    }
   ],
   "source": [
    "%%time\n",
    "from sklearn.model_selection import RandomizedSearchCV\n",
    "\n",
    "# Farklı RandomForestRegressor Parametreleri\n",
    "rf_grid = {\"n_estimators\": np.arange(10, 100, 10),\n",
    "           \"max_depth\": [None, 3, 5, 10],\n",
    "           \"min_samples_split\": np.arange(2, 20, 2),\n",
    "           \"min_samples_leaf\": np.arange(1, 20, 2),\n",
    "           \"max_features\": [0.5, 1, \"sqrt\", \"auto\"],\n",
    "           \"max_samples\": [10000]}\n",
    "\n",
    "# RandomizedSearchCV modelini oluştur, 1000 iterasyonda arama yap\n",
    "rs_model = RandomizedSearchCV(RandomForestRegressor(n_jobs=-1,\n",
    "                                                    random_state=42),\n",
    "                              param_distributions=rf_grid,\n",
    "                              n_iter=100,\n",
    "                              cv=5,\n",
    "                              verbose=True)\n",
    "\n",
    "# RandomizedSearchCV modelini Eğit\n",
    "rs_model.fit(X_train, y_train)"
   ]
  },
  {
   "cell_type": "code",
   "execution_count": 145,
   "metadata": {},
   "outputs": [
    {
     "data": {
      "text/plain": [
       "{'n_estimators': 80,\n",
       " 'min_samples_split': 4,\n",
       " 'min_samples_leaf': 3,\n",
       " 'max_samples': 10000,\n",
       " 'max_features': 'auto',\n",
       " 'max_depth': 10}"
      ]
     },
     "execution_count": 145,
     "metadata": {},
     "output_type": "execute_result"
    }
   ],
   "source": [
    "# En iyi hiper parametreleri göster\n",
    "rs_model.best_params_"
   ]
  },
  {
   "cell_type": "code",
   "execution_count": 146,
   "metadata": {},
   "outputs": [
    {
     "data": {
      "text/plain": [
       "{'Eğitim MAE': 11439.599496234337,\n",
       " 'Doğrulama MAE': 11357.398087541545,\n",
       " 'Eğitim RMSLE': 0.33455170098249043,\n",
       " 'Doğrulama RMSLE': 0.3372584473273927,\n",
       " 'Eğitim R^2': 0.8444571183718674,\n",
       " 'Doğrulama R^2': 0.8952148073472457}"
      ]
     },
     "execution_count": 146,
     "metadata": {},
     "output_type": "execute_result"
    }
   ],
   "source": [
    "# RandomizedSearch modelini değerlendir\n",
    "show_scores(rs_model)"
   ]
  },
  {
   "cell_type": "markdown",
   "metadata": {},
   "source": [
    "### Modeli en iyi hiper parametreler ile eğit\n",
    "- 100 iterasyon sonucu bulunan en iyi parametreler"
   ]
  },
  {
   "cell_type": "code",
   "execution_count": 147,
   "metadata": {},
   "outputs": [
    {
     "name": "stdout",
     "output_type": "stream",
     "text": [
      "Wall time: 30.7 s\n"
     ]
    },
    {
     "data": {
      "text/plain": [
       "RandomForestRegressor(max_depth=10, min_samples_leaf=3, min_samples_split=4,\n",
       "                      n_estimators=80, n_jobs=-1, random_state=42)"
      ]
     },
     "execution_count": 147,
     "metadata": {},
     "output_type": "execute_result"
    }
   ],
   "source": [
    "%%time\n",
    "\n",
    "# Most ideal hyperparamters\n",
    "ideal_model = RandomForestRegressor(n_estimators=80,\n",
    "                                    min_samples_leaf=3,\n",
    "                                    min_samples_split=4,\n",
    "                                    max_depth = 10,\n",
    "                                    max_features='auto',\n",
    "                                    n_jobs=-1,\n",
    "                                    max_samples=None,\n",
    "                                    random_state=42) # random state so our results are reproducible\n",
    "\n",
    "# Fit the ideal model\n",
    "ideal_model.fit(X_train, y_train)"
   ]
  },
  {
   "cell_type": "code",
   "execution_count": 148,
   "metadata": {},
   "outputs": [
    {
     "data": {
      "text/plain": [
       "{'Eğitim MAE': 10320.254319877935,\n",
       " 'Doğrulama MAE': 10974.134357731968,\n",
       " 'Eğitim RMSLE': 0.331438869477077,\n",
       " 'Doğrulama RMSLE': 0.33924359367111545,\n",
       " 'Eğitim R^2': 0.9122036143800876,\n",
       " 'Doğrulama R^2': 0.9120356188689553}"
      ]
     },
     "execution_count": 148,
     "metadata": {},
     "output_type": "execute_result"
    }
   ],
   "source": [
    "# Tüm eğitim verisi ile eğitilen ideal_model için değerlendirme\n",
    "show_scores(ideal_model)"
   ]
  },
  {
   "cell_type": "code",
   "execution_count": 149,
   "metadata": {},
   "outputs": [
    {
     "data": {
      "text/plain": [
       "{'Eğitim MAE': 11439.599496234337,\n",
       " 'Doğrulama MAE': 11357.398087541545,\n",
       " 'Eğitim RMSLE': 0.3345517009824904,\n",
       " 'Doğrulama RMSLE': 0.3372584473273927,\n",
       " 'Eğitim R^2': 0.8444571183718674,\n",
       " 'Doğrulama R^2': 0.8952148073472457}"
      ]
     },
     "execution_count": 149,
     "metadata": {},
     "output_type": "execute_result"
    }
   ],
   "source": [
    "# Sadece 10000 lik alt küme ile eğitilen rs_model için değerlendirme\n",
    "show_scores(rs_model)"
   ]
  },
  {
   "cell_type": "markdown",
   "metadata": {},
   "source": [
    "### Test verisi üzerinde tahmin yapma"
   ]
  },
  {
   "cell_type": "code",
   "execution_count": 150,
   "metadata": {},
   "outputs": [
    {
     "data": {
      "text/html": [
       "<div>\n",
       "<style scoped>\n",
       "    .dataframe tbody tr th:only-of-type {\n",
       "        vertical-align: middle;\n",
       "    }\n",
       "\n",
       "    .dataframe tbody tr th {\n",
       "        vertical-align: top;\n",
       "    }\n",
       "\n",
       "    .dataframe thead th {\n",
       "        text-align: right;\n",
       "    }\n",
       "</style>\n",
       "<table border=\"1\" class=\"dataframe\">\n",
       "  <thead>\n",
       "    <tr style=\"text-align: right;\">\n",
       "      <th></th>\n",
       "      <th>Condition</th>\n",
       "      <th>Vehicle_brand</th>\n",
       "      <th>Vehicle_model</th>\n",
       "      <th>Production_year</th>\n",
       "      <th>Mileage_km</th>\n",
       "      <th>Power_HP</th>\n",
       "      <th>Displacement_cm3</th>\n",
       "      <th>Fuel_type</th>\n",
       "      <th>Drive</th>\n",
       "      <th>Transmission</th>\n",
       "      <th>...</th>\n",
       "      <th>Condition_is_missing</th>\n",
       "      <th>Vehicle_brand_is_missing</th>\n",
       "      <th>Vehicle_model_is_missing</th>\n",
       "      <th>Fuel_type_is_missing</th>\n",
       "      <th>Drive_is_missing</th>\n",
       "      <th>Transmission_is_missing</th>\n",
       "      <th>Type_is_missing</th>\n",
       "      <th>Colour_is_missing</th>\n",
       "      <th>Offer_publication_date_is_missing</th>\n",
       "      <th>Offer_location_is_missing</th>\n",
       "    </tr>\n",
       "  </thead>\n",
       "  <tbody>\n",
       "    <tr>\n",
       "      <th>19811</th>\n",
       "      <td>2</td>\n",
       "      <td>10</td>\n",
       "      <td>950</td>\n",
       "      <td>2008</td>\n",
       "      <td>193000.0</td>\n",
       "      <td>143.0</td>\n",
       "      <td>2000.0</td>\n",
       "      <td>1</td>\n",
       "      <td>5</td>\n",
       "      <td>2</td>\n",
       "      <td>...</td>\n",
       "      <td>False</td>\n",
       "      <td>False</td>\n",
       "      <td>False</td>\n",
       "      <td>False</td>\n",
       "      <td>False</td>\n",
       "      <td>False</td>\n",
       "      <td>False</td>\n",
       "      <td>False</td>\n",
       "      <td>False</td>\n",
       "      <td>False</td>\n",
       "    </tr>\n",
       "    <tr>\n",
       "      <th>82906</th>\n",
       "      <td>1</td>\n",
       "      <td>43</td>\n",
       "      <td>998</td>\n",
       "      <td>2021</td>\n",
       "      <td>5.0</td>\n",
       "      <td>366.0</td>\n",
       "      <td>3342.0</td>\n",
       "      <td>4</td>\n",
       "      <td>1</td>\n",
       "      <td>1</td>\n",
       "      <td>...</td>\n",
       "      <td>False</td>\n",
       "      <td>False</td>\n",
       "      <td>False</td>\n",
       "      <td>False</td>\n",
       "      <td>False</td>\n",
       "      <td>False</td>\n",
       "      <td>False</td>\n",
       "      <td>False</td>\n",
       "      <td>False</td>\n",
       "      <td>False</td>\n",
       "    </tr>\n",
       "    <tr>\n",
       "      <th>158501</th>\n",
       "      <td>2</td>\n",
       "      <td>82</td>\n",
       "      <td>580</td>\n",
       "      <td>2016</td>\n",
       "      <td>134000.0</td>\n",
       "      <td>75.0</td>\n",
       "      <td>999.0</td>\n",
       "      <td>6</td>\n",
       "      <td>4</td>\n",
       "      <td>2</td>\n",
       "      <td>...</td>\n",
       "      <td>False</td>\n",
       "      <td>False</td>\n",
       "      <td>False</td>\n",
       "      <td>False</td>\n",
       "      <td>False</td>\n",
       "      <td>False</td>\n",
       "      <td>False</td>\n",
       "      <td>False</td>\n",
       "      <td>False</td>\n",
       "      <td>False</td>\n",
       "    </tr>\n",
       "    <tr>\n",
       "      <th>97096</th>\n",
       "      <td>2</td>\n",
       "      <td>59</td>\n",
       "      <td>512</td>\n",
       "      <td>2016</td>\n",
       "      <td>170000.0</td>\n",
       "      <td>204.0</td>\n",
       "      <td>2143.0</td>\n",
       "      <td>1</td>\n",
       "      <td>3</td>\n",
       "      <td>1</td>\n",
       "      <td>...</td>\n",
       "      <td>False</td>\n",
       "      <td>False</td>\n",
       "      <td>False</td>\n",
       "      <td>False</td>\n",
       "      <td>False</td>\n",
       "      <td>False</td>\n",
       "      <td>False</td>\n",
       "      <td>False</td>\n",
       "      <td>False</td>\n",
       "      <td>False</td>\n",
       "    </tr>\n",
       "    <tr>\n",
       "      <th>85164</th>\n",
       "      <td>1</td>\n",
       "      <td>43</td>\n",
       "      <td>992</td>\n",
       "      <td>2021</td>\n",
       "      <td>5.0</td>\n",
       "      <td>177.0</td>\n",
       "      <td>1591.0</td>\n",
       "      <td>4</td>\n",
       "      <td>1</td>\n",
       "      <td>2</td>\n",
       "      <td>...</td>\n",
       "      <td>False</td>\n",
       "      <td>False</td>\n",
       "      <td>False</td>\n",
       "      <td>False</td>\n",
       "      <td>False</td>\n",
       "      <td>False</td>\n",
       "      <td>False</td>\n",
       "      <td>False</td>\n",
       "      <td>False</td>\n",
       "      <td>False</td>\n",
       "    </tr>\n",
       "  </tbody>\n",
       "</table>\n",
       "<p>5 rows × 99 columns</p>\n",
       "</div>"
      ],
      "text/plain": [
       "        Condition  Vehicle_brand  Vehicle_model  Production_year  Mileage_km  \\\n",
       "19811           2             10            950             2008    193000.0   \n",
       "82906           1             43            998             2021         5.0   \n",
       "158501          2             82            580             2016    134000.0   \n",
       "97096           2             59            512             2016    170000.0   \n",
       "85164           1             43            992             2021         5.0   \n",
       "\n",
       "        Power_HP  Displacement_cm3  Fuel_type  Drive  Transmission  ...  \\\n",
       "19811      143.0            2000.0          1      5             2  ...   \n",
       "82906      366.0            3342.0          4      1             1  ...   \n",
       "158501      75.0             999.0          6      4             2  ...   \n",
       "97096      204.0            2143.0          1      3             1  ...   \n",
       "85164      177.0            1591.0          4      1             2  ...   \n",
       "\n",
       "        Condition_is_missing  Vehicle_brand_is_missing  \\\n",
       "19811                  False                     False   \n",
       "82906                  False                     False   \n",
       "158501                 False                     False   \n",
       "97096                  False                     False   \n",
       "85164                  False                     False   \n",
       "\n",
       "        Vehicle_model_is_missing  Fuel_type_is_missing  Drive_is_missing  \\\n",
       "19811                      False                 False             False   \n",
       "82906                      False                 False             False   \n",
       "158501                     False                 False             False   \n",
       "97096                      False                 False             False   \n",
       "85164                      False                 False             False   \n",
       "\n",
       "        Transmission_is_missing  Type_is_missing  Colour_is_missing  \\\n",
       "19811                     False            False              False   \n",
       "82906                     False            False              False   \n",
       "158501                    False            False              False   \n",
       "97096                     False            False              False   \n",
       "85164                     False            False              False   \n",
       "\n",
       "        Offer_publication_date_is_missing  Offer_location_is_missing  \n",
       "19811                               False                      False  \n",
       "82906                               False                      False  \n",
       "158501                              False                      False  \n",
       "97096                               False                      False  \n",
       "85164                               False                      False  \n",
       "\n",
       "[5 rows x 99 columns]"
      ]
     },
     "execution_count": 150,
     "metadata": {},
     "output_type": "execute_result"
    }
   ],
   "source": [
    "X_test.head()"
   ]
  },
  {
   "cell_type": "code",
   "execution_count": 151,
   "metadata": {},
   "outputs": [],
   "source": [
    "test_preds = ideal_model.predict(X_test)"
   ]
  },
  {
   "cell_type": "code",
   "execution_count": 152,
   "metadata": {},
   "outputs": [
    {
     "data": {
      "text/plain": [
       "array([ 19618.62848103, 265494.43718601,  28412.87705972, ...,\n",
       "       123053.86790736,  45775.38826912,  16511.0022981 ])"
      ]
     },
     "execution_count": 152,
     "metadata": {},
     "output_type": "execute_result"
    }
   ],
   "source": [
    "test_preds"
   ]
  },
  {
   "cell_type": "code",
   "execution_count": 154,
   "metadata": {},
   "outputs": [],
   "source": [
    "test_scores = {\"Test MAE\": mean_absolute_error(y_test, test_preds),\n",
    "              \"Test RMSLE\": rmsle(y_test, test_preds),\n",
    "              \"Test R^2\": r2_score(y_test, test_preds)}"
   ]
  },
  {
   "cell_type": "markdown",
   "metadata": {},
   "source": [
    "#### Test Başarısı %89"
   ]
  },
  {
   "cell_type": "code",
   "execution_count": 155,
   "metadata": {
    "scrolled": false
   },
   "outputs": [
    {
     "data": {
      "text/plain": [
       "{'Test MAE': 11134.813637406085,\n",
       " 'Test RMSLE': 0.34211578832478645,\n",
       " 'Test R^2': 0.8907355936672936}"
      ]
     },
     "execution_count": 155,
     "metadata": {},
     "output_type": "execute_result"
    }
   ],
   "source": [
    "test_scores"
   ]
  },
  {
   "cell_type": "markdown",
   "metadata": {},
   "source": [
    "### Niteliklerin (Sütunların) Önemi\n",
    "- Hangi özelliğin satış fiyatına daha fazla etkisi olduğunu belirlemek"
   ]
  },
  {
   "cell_type": "code",
   "execution_count": 156,
   "metadata": {},
   "outputs": [
    {
     "data": {
      "text/plain": [
       "array([1.51084481e-03, 1.95254414e-02, 2.01308285e-02, 3.73258136e-01,\n",
       "       2.80545746e-02, 4.76686046e-01, 3.26826807e-02, 7.61796013e-03,\n",
       "       5.53228188e-03, 2.97398370e-03, 3.56735109e-03, 1.83130927e-03,\n",
       "       2.31256844e-03, 1.83856570e-03, 6.45046989e-03, 2.64627263e-05,\n",
       "       1.18866601e-04, 4.16122607e-05, 5.01261798e-05, 1.37136049e-04,\n",
       "       9.14952523e-05, 1.35518475e-04, 2.33060227e-04, 1.66108645e-05,\n",
       "       2.04488839e-05, 2.28077069e-04, 2.58056460e-04, 6.32124803e-04,\n",
       "       1.28538104e-04, 6.19087162e-05, 4.55809251e-05, 1.15694010e-04,\n",
       "       7.55659675e-05, 2.03719922e-05, 8.93907438e-05, 4.41349707e-05,\n",
       "       1.69603491e-04, 1.61582976e-04, 3.43434724e-05, 8.91483163e-05,\n",
       "       4.03542983e-05, 6.87004174e-05, 1.48229129e-04, 1.38145153e-04,\n",
       "       1.16106599e-04, 2.17242325e-04, 1.75253319e-04, 1.15107644e-04,\n",
       "       2.31200834e-04, 1.18323112e-04, 1.46002290e-04, 6.37937628e-04,\n",
       "       1.19145382e-04, 1.64996106e-04, 7.27394447e-05, 2.52127478e-05,\n",
       "       5.89626588e-05, 2.34387634e-04, 2.57259294e-04, 4.81245999e-04,\n",
       "       2.19525375e-04, 7.12261626e-05, 1.58145769e-03, 6.85783850e-05,\n",
       "       1.36519422e-04, 3.96864398e-04, 2.83528733e-03, 3.20952994e-04,\n",
       "       7.95271022e-05, 5.16358798e-04, 1.89059523e-04, 6.69518531e-04,\n",
       "       1.50750736e-04, 9.04120085e-05, 1.67229135e-04, 3.16311417e-05,\n",
       "       2.94183334e-04, 1.42889726e-04, 1.97559787e-04, 1.08471165e-04,\n",
       "       8.48965026e-05, 1.06399646e-04, 1.41500997e-04, 1.21101059e-04,\n",
       "       2.49685209e-04, 5.15419891e-05, 1.47426337e-04, 7.80276253e-05,\n",
       "       2.51271559e-06, 0.00000000e+00, 0.00000000e+00, 0.00000000e+00,\n",
       "       0.00000000e+00, 1.81632968e-04, 2.21815880e-06, 0.00000000e+00,\n",
       "       0.00000000e+00, 0.00000000e+00, 0.00000000e+00])"
      ]
     },
     "execution_count": 156,
     "metadata": {},
     "output_type": "execute_result"
    }
   ],
   "source": [
    "# En iyi modelimizin özelliklerinin önemi\n",
    "ideal_model.feature_importances_"
   ]
  },
  {
   "cell_type": "code",
   "execution_count": 161,
   "metadata": {},
   "outputs": [],
   "source": [
    "import seaborn as sns\n",
    "\n",
    "# Özellik önemini göstermek için yardımcı fonksiyon\n",
    "# Fiyata en çok etki eden 10 özelliği göstermek\n",
    "def plot_features(columns, importances, n=10):\n",
    "    df = (pd.DataFrame({\"features\": columns,\n",
    "                        \"feature_importance\": importances})\n",
    "          .sort_values(\"feature_importance\", ascending=False)\n",
    "          .reset_index(drop=True))\n",
    "    \n",
    "    sns.barplot(x=\"feature_importance\",\n",
    "                y=\"features\",\n",
    "                data=df[:n],\n",
    "                orient=\"h\")"
   ]
  },
  {
   "cell_type": "code",
   "execution_count": 162,
   "metadata": {},
   "outputs": [
    {
     "data": {
      "image/png": "[encoded data removed]",
      "text/plain": [
       "<Figure size 432x288 with 1 Axes>"
      ]
     },
     "metadata": {
      "needs_background": "light"
     },
     "output_type": "display_data"
    }
   ],
   "source": [
    "plot_features(X_train.columns, ideal_model.feature_importances_)"
   ]
  },
  {
   "cell_type": "code",
   "execution_count": 164,
   "metadata": {},
   "outputs": [
    {
     "data": {
      "text/plain": [
       "1.0"
      ]
     },
     "execution_count": 164,
     "metadata": {},
     "output_type": "execute_result"
    }
   ],
   "source": [
    "# Tüm özelliklerimizin etkileri toplamı 1 olmalı\n",
    "sum(ideal_model.feature_importances_)"
   ]
  },
  {
   "cell_type": "code",
   "execution_count": null,
   "metadata": {},
   "outputs": [],
   "source": []
  }
 ],
 "metadata": {
  "kernelspec": {
   "display_name": "Python 3",
   "language": "python",
   "name": "python3"
  },
  "language_info": {
   "codemirror_mode": {
    "name": "ipython",
    "version": 3
   },
   "file_extension": ".py",
   "mimetype": "text/x-python",
   "name": "python",
   "nbconvert_exporter": "python",
   "pygments_lexer": "ipython3",
   "version": "3.7.4"
  }
 },
 "nbformat": 4,
 "nbformat_minor": 2
}
